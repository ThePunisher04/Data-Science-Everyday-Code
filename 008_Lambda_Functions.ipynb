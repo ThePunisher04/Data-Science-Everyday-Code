{
 "cells": [
  {
   "cell_type": "markdown",
   "id": "95ffc452-3216-4a6e-afb3-b2ef5caa8fae",
   "metadata": {},
   "source": [
    "VARIABLE LENGTH ARGUMENTS"
   ]
  },
  {
   "cell_type": "code",
   "execution_count": 3,
   "id": "0c2ad175-5e82-4177-8d46-c095320f3fe5",
   "metadata": {},
   "outputs": [],
   "source": [
    "def sum(*numbers):\n",
    "    result = 0\n",
    "    for num in numbers:\n",
    "        result = result + num\n",
    "    print(\"sum is : \", result)"
   ]
  },
  {
   "cell_type": "code",
   "execution_count": 4,
   "id": "263f7103-48bf-4930-95d8-6d91a0fc1136",
   "metadata": {},
   "outputs": [
    {
     "name": "stdout",
     "output_type": "stream",
     "text": [
      "sum is :  15\n"
     ]
    }
   ],
   "source": [
    "sum(1,2,3,4,5)"
   ]
  },
  {
   "cell_type": "code",
   "execution_count": 5,
   "id": "d13d8a54-62fb-4ea8-b51e-b1b0d325ac45",
   "metadata": {},
   "outputs": [
    {
     "name": "stdout",
     "output_type": "stream",
     "text": [
      "sum is :  0\n"
     ]
    }
   ],
   "source": [
    "sum()"
   ]
  },
  {
   "cell_type": "code",
   "execution_count": 6,
   "id": "367ba1a5-db1c-4fad-8a80-b8576ca79fe2",
   "metadata": {},
   "outputs": [
    {
     "name": "stdout",
     "output_type": "stream",
     "text": [
      "sum is :  3\n"
     ]
    }
   ],
   "source": [
    "sum(3)"
   ]
  },
  {
   "cell_type": "code",
   "execution_count": 7,
   "id": "0215e2a2-2127-4d45-8492-e01817b0656d",
   "metadata": {},
   "outputs": [
    {
     "name": "stdout",
     "output_type": "stream",
     "text": [
      "sum is :  9\n"
     ]
    }
   ],
   "source": [
    "sum(4,5)"
   ]
  },
  {
   "cell_type": "code",
   "execution_count": 8,
   "id": "5d1c79c7-7a93-4d38-a246-338cf5b13f45",
   "metadata": {},
   "outputs": [
    {
     "name": "stdout",
     "output_type": "stream",
     "text": [
      "sum is :  2959\n"
     ]
    }
   ],
   "source": [
    "sum(21,23,44,55,22,76,134,74,56,2,2452)"
   ]
  },
  {
   "cell_type": "code",
   "execution_count": 11,
   "id": "2e64f8c3-8da0-4d95-9ba9-f97d80ad16fa",
   "metadata": {},
   "outputs": [],
   "source": [
    "x = {\"a\":1, \"b\":2}"
   ]
  },
  {
   "cell_type": "code",
   "execution_count": 12,
   "id": "54ac6951-07a7-439f-b17a-10b0843fb06a",
   "metadata": {},
   "outputs": [
    {
     "data": {
      "text/plain": [
       "dict_items([('a', 1), ('b', 2)])"
      ]
     },
     "execution_count": 12,
     "metadata": {},
     "output_type": "execute_result"
    }
   ],
   "source": [
    "x.items()"
   ]
  },
  {
   "cell_type": "code",
   "execution_count": 10,
   "id": "2fbb75a3-359c-49f3-b72c-d82c502739e1",
   "metadata": {},
   "outputs": [
    {
     "name": "stdout",
     "output_type": "stream",
     "text": [
      "a 1\n",
      "b 2\n"
     ]
    }
   ],
   "source": [
    "for keys, values in x.items():\n",
    "    print(keys, values)"
   ]
  },
  {
   "cell_type": "markdown",
   "id": "2bc58b95-549d-4262-a053-4275c5e7e12c",
   "metadata": {},
   "source": [
    "When using ** you have to give keyword arguments"
   ]
  },
  {
   "cell_type": "code",
   "execution_count": 15,
   "id": "18cf6d8a-3c8a-4941-b1d4-6041b05a83c8",
   "metadata": {},
   "outputs": [],
   "source": [
    "def intro(**data):\n",
    "    print(\"data type of argument\",type(data))\n",
    "    print(data)\n",
    "    \n",
    "    for key, value in data.items():\n",
    "        print(key, value)"
   ]
  },
  {
   "cell_type": "code",
   "execution_count": 16,
   "id": "6ef394b6-0b8e-4d7c-9edb-01f00b55065e",
   "metadata": {},
   "outputs": [
    {
     "name": "stdout",
     "output_type": "stream",
     "text": [
      "data type of argument <class 'dict'>\n",
      "{'name': 'vatsalya', 'age': 21, 'marks': 97.82}\n",
      "name vatsalya\n",
      "age 21\n",
      "marks 97.82\n"
     ]
    }
   ],
   "source": [
    "intro(name=\"vatsalya\", age=21, marks=97.82)"
   ]
  },
  {
   "cell_type": "code",
   "execution_count": null,
   "id": "e9cedf3b-b4be-4b71-95ab-0bc62bdb804f",
   "metadata": {},
   "outputs": [],
   "source": [
    "Lambda functions are anonymous. \n",
    "SYNTAX\n",
    "\n",
    "lambda arguments(s): expressions\n"
   ]
  },
  {
   "cell_type": "code",
   "execution_count": 19,
   "id": "7a3261d0-bc45-41bc-b68b-033cfcd90c90",
   "metadata": {},
   "outputs": [],
   "source": [
    "x=lambda : print(\"good morning\")"
   ]
  },
  {
   "cell_type": "code",
   "execution_count": 20,
   "id": "22390e46-48a4-40fa-9060-ebb4e1a7b059",
   "metadata": {},
   "outputs": [
    {
     "name": "stdout",
     "output_type": "stream",
     "text": [
      "good morning\n"
     ]
    }
   ],
   "source": [
    "x()"
   ]
  },
  {
   "cell_type": "code",
   "execution_count": 21,
   "id": "430afc59-dd21-41c2-81ab-7853a87b574b",
   "metadata": {},
   "outputs": [],
   "source": [
    "addNum=lambda a,b : a + b"
   ]
  },
  {
   "cell_type": "code",
   "execution_count": 22,
   "id": "53ffa4dc-efda-473b-99fd-211ef490b05b",
   "metadata": {},
   "outputs": [
    {
     "data": {
      "text/plain": [
       "6"
      ]
     },
     "execution_count": 22,
     "metadata": {},
     "output_type": "execute_result"
    }
   ],
   "source": [
    "addNum(2,4)"
   ]
  },
  {
   "cell_type": "code",
   "execution_count": 24,
   "id": "1585c1a6-0ba4-4744-a37d-823ea59afad4",
   "metadata": {},
   "outputs": [],
   "source": [
    "mult = lambda a,b : a * b"
   ]
  },
  {
   "cell_type": "code",
   "execution_count": 25,
   "id": "dafb9b92-7c5d-4f11-8c9f-d2144cd5fcbb",
   "metadata": {},
   "outputs": [
    {
     "data": {
      "text/plain": [
       "8"
      ]
     },
     "execution_count": 25,
     "metadata": {},
     "output_type": "execute_result"
    }
   ],
   "source": [
    "mult(2,4)"
   ]
  },
  {
   "cell_type": "code",
   "execution_count": 27,
   "id": "71ffa2b6-32e1-4729-a104-15dc38cc962c",
   "metadata": {},
   "outputs": [
    {
     "name": "stdin",
     "output_type": "stream",
     "text": [
      "enter first number :  4\n",
      "enter second number :  5\n"
     ]
    },
    {
     "name": "stdout",
     "output_type": "stream",
     "text": [
      "(16, 25)\n"
     ]
    }
   ],
   "source": [
    "a = int(input(\"enter first number : \"))\n",
    "b = int(input(\"enter second number : \"))\n",
    "\n",
    "square = lambda a,b : (a**2, b**2)\n",
    "\n",
    "print(square(a, b))"
   ]
  },
  {
   "cell_type": "code",
   "execution_count": 28,
   "id": "9bda12a0-0020-40ff-a92e-c8e671f893c0",
   "metadata": {},
   "outputs": [
    {
     "data": {
      "text/plain": [
       "function"
      ]
     },
     "execution_count": 28,
     "metadata": {},
     "output_type": "execute_result"
    }
   ],
   "source": [
    "type(square)"
   ]
  },
  {
   "cell_type": "code",
   "execution_count": 29,
   "id": "271df2cd-e999-4dad-b38a-9a02210a71b5",
   "metadata": {},
   "outputs": [],
   "source": [
    "x = lambda n : \"true\" if n%2 == 0 else \"false\""
   ]
  },
  {
   "cell_type": "code",
   "execution_count": 30,
   "id": "0008a3fa-5faa-457b-ae9e-d0140e50b4df",
   "metadata": {},
   "outputs": [
    {
     "data": {
      "text/plain": [
       "'true'"
      ]
     },
     "execution_count": 30,
     "metadata": {},
     "output_type": "execute_result"
    }
   ],
   "source": [
    "x(2)"
   ]
  },
  {
   "cell_type": "code",
   "execution_count": 31,
   "id": "f15fe051-170c-4a2d-b4f0-2c46da6adb15",
   "metadata": {},
   "outputs": [
    {
     "data": {
      "text/plain": [
       "'false'"
      ]
     },
     "execution_count": 31,
     "metadata": {},
     "output_type": "execute_result"
    }
   ],
   "source": [
    "x(3)"
   ]
  },
  {
   "cell_type": "code",
   "execution_count": 32,
   "id": "2af89bdf-a3aa-4a9a-a198-e658d9f35e71",
   "metadata": {},
   "outputs": [],
   "source": [
    "y = lambda a, b : f\"{a} is greater than {b}\" if a>b else f\"{b} is greater than {a}\""
   ]
  },
  {
   "cell_type": "code",
   "execution_count": 33,
   "id": "38d58995-393d-45ba-acf4-316b39691c1a",
   "metadata": {},
   "outputs": [
    {
     "data": {
      "text/plain": [
       "'4 is greater than 2'"
      ]
     },
     "execution_count": 33,
     "metadata": {},
     "output_type": "execute_result"
    }
   ],
   "source": [
    "y(2,4)"
   ]
  },
  {
   "cell_type": "code",
   "execution_count": 34,
   "id": "e33542ff-76f3-4e86-8255-96ae9968d690",
   "metadata": {},
   "outputs": [
    {
     "data": {
      "text/plain": [
       "'9 is greater than 5'"
      ]
     },
     "execution_count": 34,
     "metadata": {},
     "output_type": "execute_result"
    }
   ],
   "source": [
    "y(9,5)"
   ]
  },
  {
   "cell_type": "code",
   "execution_count": 35,
   "id": "607072c2-4bae-428c-859a-f8df1980b311",
   "metadata": {},
   "outputs": [],
   "source": [
    "sum_of=lambda a,b,c : (a+b+c)"
   ]
  },
  {
   "cell_type": "code",
   "execution_count": 36,
   "id": "e758be8b-88f3-40fc-a462-403d485e38aa",
   "metadata": {},
   "outputs": [
    {
     "data": {
      "text/plain": [
       "6"
      ]
     },
     "execution_count": 36,
     "metadata": {},
     "output_type": "execute_result"
    }
   ],
   "source": [
    "sum_of(1,2,3)"
   ]
  },
  {
   "cell_type": "code",
   "execution_count": 41,
   "id": "bb525fb6-17c9-4297-b8ba-3a9995bc3ade",
   "metadata": {},
   "outputs": [],
   "source": [
    "products = [\n",
    "    {\"name\" : \"product1\", \"price\" : 50},\n",
    "    {\"name\" : \"product2\", \"price\" : 40},\n",
    "    {\"name\" : \"product3\", \"price\" : 30},\n",
    "    {\"name\" : \"product4\", \"price\" : 80},\n",
    "]\n",
    "\n",
    "sorted_products = sorted(products, key=lambda x:x[\"price\"])\n",
    "reverse_products = sorted(products, key=lambda x:x[\"price\"], reverse=True)\n"
   ]
  },
  {
   "cell_type": "code",
   "execution_count": 39,
   "id": "8d4c0ed2-86f0-426f-85f6-bccb47993398",
   "metadata": {},
   "outputs": [
    {
     "name": "stdout",
     "output_type": "stream",
     "text": [
      "{'name': 'product3', 'price': 30}\n",
      "{'name': 'product2', 'price': 40}\n",
      "{'name': 'product1', 'price': 50}\n",
      "{'name': 'product4', 'price': 80}\n"
     ]
    }
   ],
   "source": [
    "for i in sorted_products:\n",
    "    print(i)"
   ]
  },
  {
   "cell_type": "code",
   "execution_count": 40,
   "id": "f691cc77-3142-4811-9302-30614dac5cef",
   "metadata": {},
   "outputs": [
    {
     "data": {
      "text/plain": [
       "[{'name': 'product3', 'price': 30},\n",
       " {'name': 'product2', 'price': 40},\n",
       " {'name': 'product1', 'price': 50},\n",
       " {'name': 'product4', 'price': 80}]"
      ]
     },
     "execution_count": 40,
     "metadata": {},
     "output_type": "execute_result"
    }
   ],
   "source": [
    "sorted_products"
   ]
  },
  {
   "cell_type": "code",
   "execution_count": 42,
   "id": "ed6d82d3-1aaf-48bc-8c13-3d329680b363",
   "metadata": {},
   "outputs": [
    {
     "data": {
      "text/plain": [
       "[{'name': 'product4', 'price': 80},\n",
       " {'name': 'product1', 'price': 50},\n",
       " {'name': 'product2', 'price': 40},\n",
       " {'name': 'product3', 'price': 30}]"
      ]
     },
     "execution_count": 42,
     "metadata": {},
     "output_type": "execute_result"
    }
   ],
   "source": [
    "reverse_products"
   ]
  },
  {
   "cell_type": "code",
   "execution_count": 44,
   "id": "dfede5ef-d9bd-42b3-bf59-290c15be41e2",
   "metadata": {},
   "outputs": [],
   "source": [
    "checkVowel = lambda ch : \"vowel\" if ch.lower() in [\"a\",\"e\",\"i\",\"o\",\"u\"] else \"not a vowel\""
   ]
  },
  {
   "cell_type": "code",
   "execution_count": 45,
   "id": "105553f0-aab0-436e-8817-613022a5fba9",
   "metadata": {},
   "outputs": [
    {
     "data": {
      "text/plain": [
       "'vowel'"
      ]
     },
     "execution_count": 45,
     "metadata": {},
     "output_type": "execute_result"
    }
   ],
   "source": [
    "checkVowel(\"e\")"
   ]
  },
  {
   "cell_type": "code",
   "execution_count": 46,
   "id": "eb69898a-004c-45b9-9152-8e44738911db",
   "metadata": {},
   "outputs": [
    {
     "data": {
      "text/plain": [
       "'not a vowel'"
      ]
     },
     "execution_count": 46,
     "metadata": {},
     "output_type": "execute_result"
    }
   ],
   "source": [
    "checkVowel(\"v\")"
   ]
  },
  {
   "cell_type": "code",
   "execution_count": 47,
   "id": "5017bac3-d590-4e83-bba8-04f968928d61",
   "metadata": {},
   "outputs": [
    {
     "data": {
      "text/plain": [
       "'vowel'"
      ]
     },
     "execution_count": 47,
     "metadata": {},
     "output_type": "execute_result"
    }
   ],
   "source": [
    "checkVowel(\"E\")"
   ]
  },
  {
   "cell_type": "code",
   "execution_count": 48,
   "id": "f1276a28-06f6-430d-ba2b-ff9998402519",
   "metadata": {},
   "outputs": [
    {
     "data": {
      "text/plain": [
       "'not a vowel'"
      ]
     },
     "execution_count": 48,
     "metadata": {},
     "output_type": "execute_result"
    }
   ],
   "source": [
    "checkVowel(\"V\")"
   ]
  },
  {
   "cell_type": "code",
   "execution_count": 49,
   "id": "136e9ba8-a910-4fc5-be23-2e2ce10467de",
   "metadata": {},
   "outputs": [
    {
     "data": {
      "text/plain": [
       "10"
      ]
     },
     "execution_count": 49,
     "metadata": {},
     "output_type": "execute_result"
    }
   ],
   "source": [
    "x=-10\n",
    "abs(x)"
   ]
  },
  {
   "cell_type": "code",
   "execution_count": 50,
   "id": "f9bee0ba-2327-4040-9d3b-e59f856055fa",
   "metadata": {},
   "outputs": [
    {
     "data": {
      "text/plain": [
       "139790262752976"
      ]
     },
     "execution_count": 50,
     "metadata": {},
     "output_type": "execute_result"
    }
   ],
   "source": [
    "id(x)"
   ]
  },
  {
   "cell_type": "code",
   "execution_count": 51,
   "id": "fddcdc09-df4b-4697-a101-4238917bcc3d",
   "metadata": {},
   "outputs": [
    {
     "data": {
      "text/plain": [
       "40"
      ]
     },
     "execution_count": 51,
     "metadata": {},
     "output_type": "execute_result"
    }
   ],
   "source": [
    "max(10,30,40)"
   ]
  },
  {
   "cell_type": "code",
   "execution_count": 55,
   "id": "d0a5c8a8-3cf6-4536-a71c-d7e1212958ad",
   "metadata": {},
   "outputs": [],
   "source": [
    "x=2\n",
    "y=str(x)"
   ]
  },
  {
   "cell_type": "code",
   "execution_count": 56,
   "id": "cf4e84d7-9293-4f01-b221-5068e47d0d65",
   "metadata": {},
   "outputs": [
    {
     "data": {
      "text/plain": [
       "'2'"
      ]
     },
     "execution_count": 56,
     "metadata": {},
     "output_type": "execute_result"
    }
   ],
   "source": [
    "y"
   ]
  },
  {
   "cell_type": "code",
   "execution_count": 57,
   "id": "42d93234-b182-4540-93ce-37e6daba4d6e",
   "metadata": {},
   "outputs": [
    {
     "data": {
      "text/plain": [
       "str"
      ]
     },
     "execution_count": 57,
     "metadata": {},
     "output_type": "execute_result"
    }
   ],
   "source": [
    "type(y)"
   ]
  },
  {
   "cell_type": "code",
   "execution_count": 58,
   "id": "529690df-1ab7-409a-99a5-ab06f2282831",
   "metadata": {},
   "outputs": [],
   "source": [
    "lang = ['python', 'js', 'cpp', 'java']"
   ]
  },
  {
   "cell_type": "code",
   "execution_count": 59,
   "id": "4c671d19-70d0-4e33-b4bb-dec9c66442ab",
   "metadata": {},
   "outputs": [],
   "source": [
    "enumerate_lang = enumerate(lang)"
   ]
  },
  {
   "cell_type": "code",
   "execution_count": 60,
   "id": "5790f681-677d-4d58-870e-bbcac90af4dc",
   "metadata": {},
   "outputs": [
    {
     "data": {
      "text/plain": [
       "<enumerate at 0x7f2386e72600>"
      ]
     },
     "execution_count": 60,
     "metadata": {},
     "output_type": "execute_result"
    }
   ],
   "source": [
    "enumerate_lang"
   ]
  },
  {
   "cell_type": "code",
   "execution_count": 61,
   "id": "3538a993-6dc4-450a-87a3-805665a3d58d",
   "metadata": {},
   "outputs": [
    {
     "data": {
      "text/plain": [
       "[(0, 'python'), (1, 'js'), (2, 'cpp'), (3, 'java')]"
      ]
     },
     "execution_count": 61,
     "metadata": {},
     "output_type": "execute_result"
    }
   ],
   "source": [
    "list(enumerate_lang)"
   ]
  },
  {
   "cell_type": "code",
   "execution_count": 68,
   "id": "b9919480-1a4d-4d9b-8bf6-969798da4833",
   "metadata": {},
   "outputs": [
    {
     "data": {
      "text/plain": [
       "[(101, 'python'), (102, 'js'), (103, 'cpp'), (104, 'java')]"
      ]
     },
     "execution_count": 68,
     "metadata": {},
     "output_type": "execute_result"
    }
   ],
   "source": [
    "enumerate_lang = enumerate(lang, 101)\n",
    "list(enumerate_lang)"
   ]
  },
  {
   "cell_type": "code",
   "execution_count": 64,
   "id": "ea869645-044b-4856-85a5-3ce565fa329d",
   "metadata": {},
   "outputs": [
    {
     "data": {
      "text/plain": [
       "[(-7, 'python'), (-6, 'js'), (-5, 'cpp'), (-4, 'java')]"
      ]
     },
     "execution_count": 64,
     "metadata": {},
     "output_type": "execute_result"
    }
   ],
   "source": [
    "enumerate_lang = enumerate(lang, -7)\n",
    "list(enumerate_lang)"
   ]
  },
  {
   "cell_type": "code",
   "execution_count": 65,
   "id": "f5049759-1ff2-45ff-8c65-986e9ff549c1",
   "metadata": {},
   "outputs": [
    {
     "data": {
      "text/plain": [
       "23"
      ]
     },
     "execution_count": 65,
     "metadata": {},
     "output_type": "execute_result"
    }
   ],
   "source": [
    "round(23.45)"
   ]
  },
  {
   "cell_type": "code",
   "execution_count": 66,
   "id": "5d2b5a4c-ed4d-45f1-995e-e3d40d821481",
   "metadata": {},
   "outputs": [
    {
     "data": {
      "text/plain": [
       "2"
      ]
     },
     "execution_count": 66,
     "metadata": {},
     "output_type": "execute_result"
    }
   ],
   "source": [
    "round(2.5)"
   ]
  },
  {
   "cell_type": "code",
   "execution_count": 67,
   "id": "83d87847-94c2-4f69-81d5-333a0634727e",
   "metadata": {},
   "outputs": [
    {
     "data": {
      "text/plain": [
       "3"
      ]
     },
     "execution_count": 67,
     "metadata": {},
     "output_type": "execute_result"
    }
   ],
   "source": [
    "round(2.6)"
   ]
  },
  {
   "cell_type": "markdown",
   "id": "37791e83-bda1-4261-ae41-bea5a7bb9f38",
   "metadata": {},
   "source": [
    "List Comprehension"
   ]
  },
  {
   "cell_type": "code",
   "execution_count": 72,
   "id": "cd32404b-ff18-40bb-a0bf-68f654178ada",
   "metadata": {},
   "outputs": [],
   "source": [
    "a = [f\"{i} is even\" for i in range(5) if i%2==0]"
   ]
  },
  {
   "cell_type": "code",
   "execution_count": 73,
   "id": "86001661-e6d1-4020-a0b0-5941f377a16c",
   "metadata": {},
   "outputs": [
    {
     "data": {
      "text/plain": [
       "['0 is even', '2 is even', '4 is even']"
      ]
     },
     "execution_count": 73,
     "metadata": {},
     "output_type": "execute_result"
    }
   ],
   "source": [
    "a"
   ]
  },
  {
   "cell_type": "code",
   "execution_count": 74,
   "id": "bd916c3e-8d93-4ec5-b5ae-761cc7ed736f",
   "metadata": {},
   "outputs": [
    {
     "data": {
      "text/plain": [
       "[6, 8, 10]"
      ]
     },
     "execution_count": 74,
     "metadata": {},
     "output_type": "execute_result"
    }
   ],
   "source": [
    "lst = [1,2,3,4,5,6,7,8,9,10]\n",
    "[x for x in lst if x>5 if x%2==0]"
   ]
  },
  {
   "cell_type": "code",
   "execution_count": 75,
   "id": "2118ff38-b515-4569-b430-119e60d12b1a",
   "metadata": {},
   "outputs": [
    {
     "data": {
      "text/plain": [
       "['null', 'null', 'null', 'null', 5, 6, 7, 8, 9, 10]"
      ]
     },
     "execution_count": 75,
     "metadata": {},
     "output_type": "execute_result"
    }
   ],
   "source": [
    "lst = [1,2,3,4,5,6,7,8,9,10]\n",
    "[x if x>4 else \"null\" for x in lst]"
   ]
  },
  {
   "cell_type": "code",
   "execution_count": 77,
   "id": "a789e4db-1d9a-4b3c-aa1e-be7ff32cdce2",
   "metadata": {},
   "outputs": [
    {
     "data": {
      "text/plain": [
       "['not 2 and 3',\n",
       " 'two',\n",
       " 'three',\n",
       " 'two',\n",
       " 'not 2 and 3',\n",
       " 'two',\n",
       " 'not 2 and 3',\n",
       " 'two',\n",
       " 'three',\n",
       " 'two']"
      ]
     },
     "execution_count": 77,
     "metadata": {},
     "output_type": "execute_result"
    }
   ],
   "source": [
    "lst = [1,2,3,4,5,6,7,8,9,10]\n",
    "[\"two\" if x%2==0 else \"three\" if x%3==0 else \"not 2 and 3\" for x in lst]"
   ]
  },
  {
   "cell_type": "code",
   "execution_count": null,
   "id": "b5dfee71-627d-488d-a003-d878188bd5ed",
   "metadata": {},
   "outputs": [],
   "source": []
  }
 ],
 "metadata": {
  "kernelspec": {
   "display_name": "Python 3 (ipykernel)",
   "language": "python",
   "name": "python3"
  },
  "language_info": {
   "codemirror_mode": {
    "name": "ipython",
    "version": 3
   },
   "file_extension": ".py",
   "mimetype": "text/x-python",
   "name": "python",
   "nbconvert_exporter": "python",
   "pygments_lexer": "ipython3",
   "version": "3.10.8"
  }
 },
 "nbformat": 4,
 "nbformat_minor": 5
}
