{
 "cells": [
  {
   "cell_type": "code",
   "execution_count": 1,
   "id": "9caae4b7-bc98-4cd9-a01f-e963fc3b6ac2",
   "metadata": {},
   "outputs": [],
   "source": [
    "text = \"i love python\""
   ]
  },
  {
   "cell_type": "code",
   "execution_count": 2,
   "id": "63aa81a3-50d3-4ff1-bcbe-1a29c42f9dd2",
   "metadata": {},
   "outputs": [],
   "source": [
    "w1, w2, w3 = text.split()"
   ]
  },
  {
   "cell_type": "code",
   "execution_count": 3,
   "id": "bbd23007-1304-44cc-8efc-24a1ac49d5d4",
   "metadata": {},
   "outputs": [
    {
     "data": {
      "text/plain": [
       "'i'"
      ]
     },
     "execution_count": 3,
     "metadata": {},
     "output_type": "execute_result"
    }
   ],
   "source": [
    "w1"
   ]
  },
  {
   "cell_type": "code",
   "execution_count": 4,
   "id": "9d96c5f0-d908-49af-949f-ea2ec785e825",
   "metadata": {},
   "outputs": [
    {
     "data": {
      "text/plain": [
       "'love'"
      ]
     },
     "execution_count": 4,
     "metadata": {},
     "output_type": "execute_result"
    }
   ],
   "source": [
    "w2"
   ]
  },
  {
   "cell_type": "code",
   "execution_count": 5,
   "id": "8bc84321-92ed-4a62-9483-8972470fb090",
   "metadata": {},
   "outputs": [
    {
     "data": {
      "text/plain": [
       "'python'"
      ]
     },
     "execution_count": 5,
     "metadata": {},
     "output_type": "execute_result"
    }
   ],
   "source": [
    "w3"
   ]
  },
  {
   "cell_type": "code",
   "execution_count": 6,
   "id": "b999378e-77b4-49df-b46b-90eb4a04def2",
   "metadata": {},
   "outputs": [
    {
     "name": "stdin",
     "output_type": "stream",
     "text": [
      " 5\n"
     ]
    }
   ],
   "source": [
    "num=int(input())"
   ]
  },
  {
   "cell_type": "code",
   "execution_count": 11,
   "id": "6bf178dd-0634-4f2d-a9be-0ae8ba66daa0",
   "metadata": {},
   "outputs": [
    {
     "name": "stdin",
     "output_type": "stream",
     "text": [
      "enter num :  7 2\n"
     ]
    },
    {
     "data": {
      "text/plain": [
       "9"
      ]
     },
     "execution_count": 11,
     "metadata": {},
     "output_type": "execute_result"
    }
   ],
   "source": [
    "a, b = input(\"enter num : \").split()\n",
    "c = int(a) + int(b)\n",
    "c"
   ]
  },
  {
   "cell_type": "code",
   "execution_count": 13,
   "id": "bbfce04e-b1a3-4e6a-ac5c-efbb093ad749",
   "metadata": {},
   "outputs": [
    {
     "name": "stdin",
     "output_type": "stream",
     "text": [
      "enter roll, name, marks 01 vatsalya 98\n"
     ]
    },
    {
     "name": "stdout",
     "output_type": "stream",
     "text": [
      "01 vatsalya 98\n"
     ]
    }
   ],
   "source": [
    "s = input(\"enter roll, name, marks\")\n",
    "roll, name, marks = s.split()\n",
    "print(roll, name, marks)\n"
   ]
  },
  {
   "cell_type": "code",
   "execution_count": 14,
   "id": "9cee69e1-a286-4ff1-a27f-05fbaae363e9",
   "metadata": {},
   "outputs": [
    {
     "name": "stdout",
     "output_type": "stream",
     "text": [
      "['A', 'B', 'C', 'D', 'E F']\n"
     ]
    }
   ],
   "source": [
    "s1 = \"A B C D E F\"\n",
    "print(s1.split(\" \", 4))"
   ]
  },
  {
   "cell_type": "code",
   "execution_count": 16,
   "id": "4c631be5-1f69-4c77-96f6-99d1f7ab1621",
   "metadata": {},
   "outputs": [
    {
     "data": {
      "text/plain": [
       "['HI', 'HI', 'HI@HI@HI']"
      ]
     },
     "execution_count": 16,
     "metadata": {},
     "output_type": "execute_result"
    }
   ],
   "source": [
    "s1 = \"HI@HI@HI@HI@HI\"\n",
    "s1.split(\"@\", 2)"
   ]
  },
  {
   "cell_type": "code",
   "execution_count": 17,
   "id": "2b5f4a1f-523d-4ce7-a296-d6f4cfec91f8",
   "metadata": {},
   "outputs": [
    {
     "name": "stdout",
     "output_type": "stream",
     "text": [
      "letter is v\n",
      "letter is a\n",
      "letter is t\n",
      "letter is s\n",
      "letter is a\n"
     ]
    }
   ],
   "source": [
    "for letter in \"vatsalya\":\n",
    "    if letter == \"l\":\n",
    "        break\n",
    "    print(\"letter is \" + letter)"
   ]
  },
  {
   "cell_type": "code",
   "execution_count": 19,
   "id": "80e0ca45-d21c-47ef-b6b2-a5da80dbc2ed",
   "metadata": {},
   "outputs": [
    {
     "name": "stdout",
     "output_type": "stream",
     "text": [
      "letter is v\n",
      "letter is t\n",
      "letter is s\n",
      "letter is l\n",
      "letter is y\n"
     ]
    }
   ],
   "source": [
    "for letter in \"vatsalya\":\n",
    "    if letter == \"a\":\n",
    "        continue\n",
    "    print(\"letter is \" + letter)"
   ]
  },
  {
   "cell_type": "code",
   "execution_count": 20,
   "id": "0672782f-4bf4-49eb-a965-df724f6a60ed",
   "metadata": {},
   "outputs": [
    {
     "name": "stdout",
     "output_type": "stream",
     "text": [
      "1\n",
      "3\n",
      "5\n",
      "7\n",
      "9\n"
     ]
    }
   ],
   "source": [
    "for i in range(1,11,2):\n",
    "    print(i)"
   ]
  },
  {
   "cell_type": "code",
   "execution_count": 25,
   "id": "36ff6dfa-0a0c-426b-8336-55480ff2cc3b",
   "metadata": {},
   "outputs": [],
   "source": [
    "n=10\n",
    "if n>45:\n",
    "    pass\n",
    "\n",
    "#pass means that i will code this part later on"
   ]
  },
  {
   "cell_type": "code",
   "execution_count": 26,
   "id": "9186abba-15d7-433c-94f9-9a2869cea222",
   "metadata": {},
   "outputs": [
    {
     "name": "stdout",
     "output_type": "stream",
     "text": [
      "letter is v\n",
      "letter is a\n",
      "letter is t\n",
      "letter is s\n",
      "letter is a\n",
      "letter is l\n",
      "letter is y\n",
      "letter is a\n"
     ]
    }
   ],
   "source": [
    "for letter in \"vatsalya\":\n",
    "    if letter == \"a\":\n",
    "        pass\n",
    "    print(\"letter is \" + letter)"
   ]
  },
  {
   "cell_type": "code",
   "execution_count": 27,
   "id": "1f0051c1-f78b-4e53-bb54-1ff8dd1f2500",
   "metadata": {},
   "outputs": [],
   "source": [
    "def add(a, b):\n",
    "    return a + b"
   ]
  },
  {
   "cell_type": "code",
   "execution_count": 28,
   "id": "87ccdfe3-3b0e-485c-be72-339935a5f33f",
   "metadata": {},
   "outputs": [
    {
     "data": {
      "text/plain": [
       "10"
      ]
     },
     "execution_count": 28,
     "metadata": {},
     "output_type": "execute_result"
    }
   ],
   "source": [
    "add(4,6)"
   ]
  },
  {
   "cell_type": "code",
   "execution_count": 29,
   "id": "322224d0-0c6d-43a6-811c-f9221aca190d",
   "metadata": {},
   "outputs": [],
   "source": [
    "def abs(n):\n",
    "    if n>= 0:\n",
    "        return n\n",
    "    else:\n",
    "        return -n"
   ]
  },
  {
   "cell_type": "code",
   "execution_count": 30,
   "id": "346c45b0-2999-4dbd-902e-986c9affba92",
   "metadata": {},
   "outputs": [
    {
     "data": {
      "text/plain": [
       "23"
      ]
     },
     "execution_count": 30,
     "metadata": {},
     "output_type": "execute_result"
    }
   ],
   "source": [
    "abs(23)"
   ]
  },
  {
   "cell_type": "code",
   "execution_count": 31,
   "id": "999a016f-a242-4397-903c-b8e61d130a21",
   "metadata": {},
   "outputs": [
    {
     "data": {
      "text/plain": [
       "34"
      ]
     },
     "execution_count": 31,
     "metadata": {},
     "output_type": "execute_result"
    }
   ],
   "source": [
    "abs(-34)"
   ]
  },
  {
   "cell_type": "code",
   "execution_count": 32,
   "id": "a377451e-ba0d-425c-a925-55975712be51",
   "metadata": {},
   "outputs": [
    {
     "data": {
      "text/plain": [
       "0"
      ]
     },
     "execution_count": 32,
     "metadata": {},
     "output_type": "execute_result"
    }
   ],
   "source": [
    "abs(0)"
   ]
  },
  {
   "cell_type": "code",
   "execution_count": 35,
   "id": "a8a81230-477e-4b84-8dc8-f7e632303831",
   "metadata": {},
   "outputs": [],
   "source": [
    "def calc(x, y, op):\n",
    "    if op == \"+\":\n",
    "        return x+y\n",
    "    elif op == \"-\":\n",
    "        return x-y\n",
    "    elif op == \"*\":\n",
    "        return x*y\n",
    "    elif op == \"/\":\n",
    "        return x/y\n",
    "    elif op == \"%\":\n",
    "        return x%y\n",
    "    else:\n",
    "        print(\"enter valid operator\")"
   ]
  },
  {
   "cell_type": "code",
   "execution_count": 37,
   "id": "1b136fad-ff1f-4ec0-934f-b695706405d7",
   "metadata": {},
   "outputs": [
    {
     "data": {
      "text/plain": [
       "6"
      ]
     },
     "execution_count": 37,
     "metadata": {},
     "output_type": "execute_result"
    }
   ],
   "source": [
    "calc(2,4,\"+\")"
   ]
  },
  {
   "cell_type": "code",
   "execution_count": 38,
   "id": "118e01ec-71cc-4b0b-baf7-ec972faf1c6e",
   "metadata": {},
   "outputs": [
    {
     "data": {
      "text/plain": [
       "4"
      ]
     },
     "execution_count": 38,
     "metadata": {},
     "output_type": "execute_result"
    }
   ],
   "source": [
    "calc(7,3,\"-\")"
   ]
  },
  {
   "cell_type": "code",
   "execution_count": 39,
   "id": "a062b5d9-9d63-46a9-9532-bb3b9baa247f",
   "metadata": {},
   "outputs": [
    {
     "data": {
      "text/plain": [
       "20"
      ]
     },
     "execution_count": 39,
     "metadata": {},
     "output_type": "execute_result"
    }
   ],
   "source": [
    "calc(4,5,\"*\")"
   ]
  },
  {
   "cell_type": "code",
   "execution_count": 40,
   "id": "1aee732d-154d-4aed-b637-d848fdc5dc8b",
   "metadata": {},
   "outputs": [
    {
     "data": {
      "text/plain": [
       "2.0"
      ]
     },
     "execution_count": 40,
     "metadata": {},
     "output_type": "execute_result"
    }
   ],
   "source": [
    "calc(8,4,\"/\")"
   ]
  },
  {
   "cell_type": "code",
   "execution_count": 41,
   "id": "fda3b0b5-99bc-45db-9eba-57678df28aaa",
   "metadata": {},
   "outputs": [
    {
     "data": {
      "text/plain": [
       "1"
      ]
     },
     "execution_count": 41,
     "metadata": {},
     "output_type": "execute_result"
    }
   ],
   "source": [
    "calc(10,3,\"%\")\n"
   ]
  },
  {
   "cell_type": "code",
   "execution_count": 43,
   "id": "43055139-ff1e-4c4c-a792-eb136c417ab3",
   "metadata": {},
   "outputs": [
    {
     "name": "stdout",
     "output_type": "stream",
     "text": [
      "enter valid operator\n"
     ]
    }
   ],
   "source": [
    "calc(3,4,\"r\")"
   ]
  },
  {
   "cell_type": "code",
   "execution_count": null,
   "id": "360b041b-1b3e-4db7-a850-42dea094674e",
   "metadata": {},
   "outputs": [],
   "source": []
  }
 ],
 "metadata": {
  "kernelspec": {
   "display_name": "Python 3 (ipykernel)",
   "language": "python",
   "name": "python3"
  },
  "language_info": {
   "codemirror_mode": {
    "name": "ipython",
    "version": 3
   },
   "file_extension": ".py",
   "mimetype": "text/x-python",
   "name": "python",
   "nbconvert_exporter": "python",
   "pygments_lexer": "ipython3",
   "version": "3.10.8"
  }
 },
 "nbformat": 4,
 "nbformat_minor": 5
}
