{
  "nbformat": 4,
  "nbformat_minor": 0,
  "metadata": {
    "colab": {
      "provenance": []
    },
    "kernelspec": {
      "name": "python3",
      "display_name": "Python 3"
    },
    "language_info": {
      "name": "python"
    }
  },
  "cells": [
    {
      "cell_type": "code",
      "execution_count": 1,
      "metadata": {
        "id": "gzRY7z5FjUV9"
      },
      "outputs": [],
      "source": [
        "import numpy as np\n",
        "data = np.array([[1],[2],[3]])"
      ]
    },
    {
      "cell_type": "code",
      "source": [
        "data.ndim"
      ],
      "metadata": {
        "colab": {
          "base_uri": "https://localhost:8080/"
        },
        "id": "TqjeNBxSjZFd",
        "outputId": "b8a1d8ae-7358-47c9-cc95-4a3699ce928f"
      },
      "execution_count": 2,
      "outputs": [
        {
          "output_type": "execute_result",
          "data": {
            "text/plain": [
              "2"
            ]
          },
          "metadata": {},
          "execution_count": 2
        }
      ]
    },
    {
      "cell_type": "code",
      "source": [
        "data"
      ],
      "metadata": {
        "colab": {
          "base_uri": "https://localhost:8080/"
        },
        "id": "-VJrSkhxjdX9",
        "outputId": "481c8a78-729c-4861-e6a3-2d0b0880bd83"
      },
      "execution_count": 3,
      "outputs": [
        {
          "output_type": "execute_result",
          "data": {
            "text/plain": [
              "array([[1],\n",
              "       [2],\n",
              "       [3]])"
            ]
          },
          "metadata": {},
          "execution_count": 3
        }
      ]
    },
    {
      "cell_type": "markdown",
      "source": [
        "Reduces the dimension by 1"
      ],
      "metadata": {
        "id": "2CkNmD7Ejf8y"
      }
    },
    {
      "cell_type": "code",
      "source": [
        "squeezed_data = np.squeeze(data)\n",
        "squeezed_data"
      ],
      "metadata": {
        "colab": {
          "base_uri": "https://localhost:8080/"
        },
        "id": "teymwDL7jd2q",
        "outputId": "86c2f597-736b-4e77-c641-13f4da6e66f1"
      },
      "execution_count": 4,
      "outputs": [
        {
          "output_type": "execute_result",
          "data": {
            "text/plain": [
              "array([1, 2, 3])"
            ]
          },
          "metadata": {},
          "execution_count": 4
        }
      ]
    },
    {
      "cell_type": "code",
      "source": [
        "squeezed_data.ndim"
      ],
      "metadata": {
        "colab": {
          "base_uri": "https://localhost:8080/"
        },
        "id": "uWgq-dg4jjNP",
        "outputId": "02542300-3c91-4444-af18-30c8ecd7849f"
      },
      "execution_count": 5,
      "outputs": [
        {
          "output_type": "execute_result",
          "data": {
            "text/plain": [
              "1"
            ]
          },
          "metadata": {},
          "execution_count": 5
        }
      ]
    },
    {
      "cell_type": "code",
      "source": [
        "#repeat\n",
        "np.repeat(data, 4)"
      ],
      "metadata": {
        "colab": {
          "base_uri": "https://localhost:8080/"
        },
        "id": "jZmSzet7jlSP",
        "outputId": "991b6a49-be67-4859-dbfd-2003e59481a3"
      },
      "execution_count": 6,
      "outputs": [
        {
          "output_type": "execute_result",
          "data": {
            "text/plain": [
              "array([1, 1, 1, 1, 2, 2, 2, 2, 3, 3, 3, 3])"
            ]
          },
          "metadata": {},
          "execution_count": 6
        }
      ]
    },
    {
      "cell_type": "code",
      "source": [
        "a = np.array([[1,2],[3,4]])\n",
        "a"
      ],
      "metadata": {
        "colab": {
          "base_uri": "https://localhost:8080/"
        },
        "id": "1Pezs3FvjoRM",
        "outputId": "e890707f-290e-4471-c020-c4cd7bb4d147"
      },
      "execution_count": 7,
      "outputs": [
        {
          "output_type": "execute_result",
          "data": {
            "text/plain": [
              "array([[1, 2],\n",
              "       [3, 4]])"
            ]
          },
          "metadata": {},
          "execution_count": 7
        }
      ]
    },
    {
      "cell_type": "code",
      "source": [
        "np.repeat(a, 4)"
      ],
      "metadata": {
        "colab": {
          "base_uri": "https://localhost:8080/"
        },
        "id": "EwydQypijrF_",
        "outputId": "638c88b4-f457-48f4-e217-55ebe3ef544b"
      },
      "execution_count": 8,
      "outputs": [
        {
          "output_type": "execute_result",
          "data": {
            "text/plain": [
              "array([1, 1, 1, 1, 2, 2, 2, 2, 3, 3, 3, 3, 4, 4, 4, 4])"
            ]
          },
          "metadata": {},
          "execution_count": 8
        }
      ]
    },
    {
      "cell_type": "code",
      "source": [
        "#repeat always gives the result after flattening the array"
      ],
      "metadata": {
        "id": "MJ0VlVCmjtAf"
      },
      "execution_count": 9,
      "outputs": []
    },
    {
      "cell_type": "code",
      "source": [
        "#repeat columns\n",
        "np.repeat(a, 4, axis=1)"
      ],
      "metadata": {
        "colab": {
          "base_uri": "https://localhost:8080/"
        },
        "id": "1J8nxoYoju-e",
        "outputId": "15aab0ed-3021-4660-e392-d74bcc953f99"
      },
      "execution_count": 13,
      "outputs": [
        {
          "output_type": "execute_result",
          "data": {
            "text/plain": [
              "array([[1, 1, 1, 1, 2, 2, 2, 2],\n",
              "       [3, 3, 3, 3, 4, 4, 4, 4]])"
            ]
          },
          "metadata": {},
          "execution_count": 13
        }
      ]
    },
    {
      "cell_type": "code",
      "source": [
        "#repeat rows\n",
        "np.repeat(a, 4, axis=0)"
      ],
      "metadata": {
        "colab": {
          "base_uri": "https://localhost:8080/"
        },
        "id": "6Cy8ihUQjw1d",
        "outputId": "065e483b-181b-45e0-bffe-9ed546bb777b"
      },
      "execution_count": 14,
      "outputs": [
        {
          "output_type": "execute_result",
          "data": {
            "text/plain": [
              "array([[1, 2],\n",
              "       [1, 2],\n",
              "       [1, 2],\n",
              "       [1, 2],\n",
              "       [3, 4],\n",
              "       [3, 4],\n",
              "       [3, 4],\n",
              "       [3, 4]])"
            ]
          },
          "metadata": {},
          "execution_count": 14
        }
      ]
    },
    {
      "cell_type": "code",
      "source": [
        "#roll -> roll array elements along a given axis\n",
        "#not very widely used....  A similar method is used extensively though in PANDAS called, 'shift'...in time-series data"
      ],
      "metadata": {
        "id": "r79VPHGFkNC9"
      },
      "execution_count": 23,
      "outputs": []
    },
    {
      "cell_type": "code",
      "source": [
        "data"
      ],
      "metadata": {
        "colab": {
          "base_uri": "https://localhost:8080/"
        },
        "id": "lUo0OsuAk6vm",
        "outputId": "ce40ef9b-98e2-4f5e-ce91-8487a5c363bb"
      },
      "execution_count": 16,
      "outputs": [
        {
          "output_type": "execute_result",
          "data": {
            "text/plain": [
              "array([[1],\n",
              "       [2],\n",
              "       [3]])"
            ]
          },
          "metadata": {},
          "execution_count": 16
        }
      ]
    },
    {
      "cell_type": "code",
      "source": [
        "np.roll(data, 1)"
      ],
      "metadata": {
        "colab": {
          "base_uri": "https://localhost:8080/"
        },
        "id": "uYRqX1xjlFIZ",
        "outputId": "7ce67294-df81-4749-957b-67fc3f7e3d86"
      },
      "execution_count": 19,
      "outputs": [
        {
          "output_type": "execute_result",
          "data": {
            "text/plain": [
              "array([[3],\n",
              "       [1],\n",
              "       [2]])"
            ]
          },
          "metadata": {},
          "execution_count": 19
        }
      ]
    },
    {
      "cell_type": "code",
      "source": [
        "np.roll(data, -1)"
      ],
      "metadata": {
        "colab": {
          "base_uri": "https://localhost:8080/"
        },
        "id": "R52Ll7XplGpX",
        "outputId": "9952d696-623b-42bc-8da4-b68a51f9593b"
      },
      "execution_count": 20,
      "outputs": [
        {
          "output_type": "execute_result",
          "data": {
            "text/plain": [
              "array([[2],\n",
              "       [3],\n",
              "       [1]])"
            ]
          },
          "metadata": {},
          "execution_count": 20
        }
      ]
    },
    {
      "cell_type": "code",
      "source": [
        "#diagonal"
      ],
      "metadata": {
        "id": "6mlnWD-ilYdV"
      },
      "execution_count": 21,
      "outputs": []
    },
    {
      "cell_type": "code",
      "source": [
        "d = np.array([1,2,3,4])\n",
        "np.diag(d)"
      ],
      "metadata": {
        "colab": {
          "base_uri": "https://localhost:8080/"
        },
        "id": "5Ojp-Vg1lkdG",
        "outputId": "73db279d-6c96-41bd-9493-6e9eb4feac6e"
      },
      "execution_count": 22,
      "outputs": [
        {
          "output_type": "execute_result",
          "data": {
            "text/plain": [
              "array([[1, 0, 0, 0],\n",
              "       [0, 2, 0, 0],\n",
              "       [0, 0, 3, 0],\n",
              "       [0, 0, 0, 4]])"
            ]
          },
          "metadata": {},
          "execution_count": 22
        }
      ]
    },
    {
      "cell_type": "code",
      "source": [
        "a = np.array([[[1,2,3],[4,5,6]], [[11,22,33],[44,55,66]], [[111,222,333],[444,555,666]]])\n",
        "a"
      ],
      "metadata": {
        "colab": {
          "base_uri": "https://localhost:8080/"
        },
        "id": "jBTFutdulrjm",
        "outputId": "179769f9-792f-4295-8fa9-18592e3bb3f1"
      },
      "execution_count": 24,
      "outputs": [
        {
          "output_type": "execute_result",
          "data": {
            "text/plain": [
              "array([[[  1,   2,   3],\n",
              "        [  4,   5,   6]],\n",
              "\n",
              "       [[ 11,  22,  33],\n",
              "        [ 44,  55,  66]],\n",
              "\n",
              "       [[111, 222, 333],\n",
              "        [444, 555, 666]]])"
            ]
          },
          "metadata": {},
          "execution_count": 24
        }
      ]
    },
    {
      "cell_type": "code",
      "source": [
        "np.roll(a, 1, axis=0)"
      ],
      "metadata": {
        "colab": {
          "base_uri": "https://localhost:8080/"
        },
        "id": "1r0dtbPFmxp9",
        "outputId": "46ccc5bb-209b-4f34-951b-b13ce7a9d515"
      },
      "execution_count": 26,
      "outputs": [
        {
          "output_type": "execute_result",
          "data": {
            "text/plain": [
              "array([[[111, 222, 333],\n",
              "        [444, 555, 666]],\n",
              "\n",
              "       [[  1,   2,   3],\n",
              "        [  4,   5,   6]],\n",
              "\n",
              "       [[ 11,  22,  33],\n",
              "        [ 44,  55,  66]]])"
            ]
          },
          "metadata": {},
          "execution_count": 26
        }
      ]
    },
    {
      "cell_type": "code",
      "source": [
        "np.roll(a, 1, axis=1)"
      ],
      "metadata": {
        "colab": {
          "base_uri": "https://localhost:8080/"
        },
        "id": "_yj8l3M8m4Kz",
        "outputId": "11959f82-5853-4161-a9d4-3541983b79aa"
      },
      "execution_count": 27,
      "outputs": [
        {
          "output_type": "execute_result",
          "data": {
            "text/plain": [
              "array([[[  4,   5,   6],\n",
              "        [  1,   2,   3]],\n",
              "\n",
              "       [[ 44,  55,  66],\n",
              "        [ 11,  22,  33]],\n",
              "\n",
              "       [[444, 555, 666],\n",
              "        [111, 222, 333]]])"
            ]
          },
          "metadata": {},
          "execution_count": 27
        }
      ]
    },
    {
      "cell_type": "markdown",
      "source": [
        "#Binary Operation on Array"
      ],
      "metadata": {
        "id": "LjXznXxQnjXv"
      }
    },
    {
      "cell_type": "code",
      "source": [
        "arr1 = np.random.randint(1, 10, (3,4))\n",
        "arr2 = np.random.randint(1, 10, (3,4))"
      ],
      "metadata": {
        "id": "Gx1MCGf0nX7Q"
      },
      "execution_count": 28,
      "outputs": []
    },
    {
      "cell_type": "code",
      "source": [
        "arr1"
      ],
      "metadata": {
        "colab": {
          "base_uri": "https://localhost:8080/"
        },
        "id": "AcP_vuTznn4w",
        "outputId": "29ef65ed-4233-41b4-ff73-6bb332b42506"
      },
      "execution_count": 29,
      "outputs": [
        {
          "output_type": "execute_result",
          "data": {
            "text/plain": [
              "array([[9, 7, 1, 4],\n",
              "       [1, 3, 8, 9],\n",
              "       [6, 7, 5, 3]])"
            ]
          },
          "metadata": {},
          "execution_count": 29
        }
      ]
    },
    {
      "cell_type": "code",
      "source": [
        "arr2"
      ],
      "metadata": {
        "colab": {
          "base_uri": "https://localhost:8080/"
        },
        "id": "VxXHOfiHnn6V",
        "outputId": "0e5d67cd-d74e-46fa-c931-ba03861dcfa1"
      },
      "execution_count": 30,
      "outputs": [
        {
          "output_type": "execute_result",
          "data": {
            "text/plain": [
              "array([[3, 5, 1, 7],\n",
              "       [3, 3, 4, 6],\n",
              "       [5, 5, 2, 1]])"
            ]
          },
          "metadata": {},
          "execution_count": 30
        }
      ]
    },
    {
      "cell_type": "code",
      "source": [
        "arr1+arr2"
      ],
      "metadata": {
        "colab": {
          "base_uri": "https://localhost:8080/"
        },
        "id": "JxAkQX1FnoAC",
        "outputId": "a79a16d7-7816-42e0-f881-0767360bb42a"
      },
      "execution_count": 31,
      "outputs": [
        {
          "output_type": "execute_result",
          "data": {
            "text/plain": [
              "array([[12, 12,  2, 11],\n",
              "       [ 4,  6, 12, 15],\n",
              "       [11, 12,  7,  4]])"
            ]
          },
          "metadata": {},
          "execution_count": 31
        }
      ]
    },
    {
      "cell_type": "code",
      "source": [
        "arr1*arr2"
      ],
      "metadata": {
        "colab": {
          "base_uri": "https://localhost:8080/"
        },
        "id": "kpYUMPcsnoC_",
        "outputId": "3def0836-2afb-4ca9-e025-b98644044bb7"
      },
      "execution_count": 32,
      "outputs": [
        {
          "output_type": "execute_result",
          "data": {
            "text/plain": [
              "array([[27, 35,  1, 28],\n",
              "       [ 3,  9, 32, 54],\n",
              "       [30, 35, 10,  3]])"
            ]
          },
          "metadata": {},
          "execution_count": 32
        }
      ]
    },
    {
      "cell_type": "code",
      "source": [
        "arr1/arr2"
      ],
      "metadata": {
        "colab": {
          "base_uri": "https://localhost:8080/"
        },
        "id": "47Ze4DN6noNW",
        "outputId": "767c6a9a-6af9-4278-ebeb-eb88d73a7432"
      },
      "execution_count": 33,
      "outputs": [
        {
          "output_type": "execute_result",
          "data": {
            "text/plain": [
              "array([[3.        , 1.4       , 1.        , 0.57142857],\n",
              "       [0.33333333, 1.        , 2.        , 1.5       ],\n",
              "       [1.2       , 1.4       , 2.5       , 3.        ]])"
            ]
          },
          "metadata": {},
          "execution_count": 33
        }
      ]
    },
    {
      "cell_type": "code",
      "source": [
        "arr1-arr2"
      ],
      "metadata": {
        "colab": {
          "base_uri": "https://localhost:8080/"
        },
        "id": "pKxfD8linoPE",
        "outputId": "13ea545a-a2f2-4eb5-e364-ca3ac6f730a3"
      },
      "execution_count": 34,
      "outputs": [
        {
          "output_type": "execute_result",
          "data": {
            "text/plain": [
              "array([[ 6,  2,  0, -3],\n",
              "       [-2,  0,  4,  3],\n",
              "       [ 1,  2,  3,  2]])"
            ]
          },
          "metadata": {},
          "execution_count": 34
        }
      ]
    },
    {
      "cell_type": "code",
      "source": [
        "arr1 ** arr2"
      ],
      "metadata": {
        "colab": {
          "base_uri": "https://localhost:8080/"
        },
        "id": "78uWKAFDnoST",
        "outputId": "ec2c9d95-078d-437b-e2f1-b44249693b14"
      },
      "execution_count": 35,
      "outputs": [
        {
          "output_type": "execute_result",
          "data": {
            "text/plain": [
              "array([[   729,  16807,      1,  16384],\n",
              "       [     1,     27,   4096, 531441],\n",
              "       [  7776,  16807,     25,      3]])"
            ]
          },
          "metadata": {},
          "execution_count": 35
        }
      ]
    },
    {
      "cell_type": "code",
      "source": [
        "arr1 > arr2"
      ],
      "metadata": {
        "colab": {
          "base_uri": "https://localhost:8080/"
        },
        "id": "8w8clYBLnoUb",
        "outputId": "f22d5a14-fb23-4a1e-fe03-6a9a407b56e6"
      },
      "execution_count": 36,
      "outputs": [
        {
          "output_type": "execute_result",
          "data": {
            "text/plain": [
              "array([[ True,  True, False, False],\n",
              "       [False, False,  True,  True],\n",
              "       [ True,  True,  True,  True]])"
            ]
          },
          "metadata": {},
          "execution_count": 36
        }
      ]
    },
    {
      "cell_type": "code",
      "source": [
        "~arr1"
      ],
      "metadata": {
        "colab": {
          "base_uri": "https://localhost:8080/"
        },
        "id": "StX8YjUxnoXG",
        "outputId": "dbd27e46-bacd-42b5-8d3f-af501c55c0e2"
      },
      "execution_count": 37,
      "outputs": [
        {
          "output_type": "execute_result",
          "data": {
            "text/plain": [
              "array([[-10,  -8,  -2,  -5],\n",
              "       [ -2,  -4,  -9, -10],\n",
              "       [ -7,  -8,  -6,  -4]])"
            ]
          },
          "metadata": {},
          "execution_count": 37
        }
      ]
    },
    {
      "cell_type": "markdown",
      "source": [
        "#Numpy String Functions"
      ],
      "metadata": {
        "id": "F9k79_jQojcE"
      }
    },
    {
      "cell_type": "code",
      "source": [
        "arr = np.array([\"bat\", \"cat\", \"rat\"])\n",
        "arr"
      ],
      "metadata": {
        "colab": {
          "base_uri": "https://localhost:8080/"
        },
        "id": "wMeAmJ2anoZH",
        "outputId": "89e3fd86-336a-4d8d-c1dd-647424c19d2c"
      },
      "execution_count": 38,
      "outputs": [
        {
          "output_type": "execute_result",
          "data": {
            "text/plain": [
              "array(['bat', 'cat', 'rat'], dtype='<U3')"
            ]
          },
          "metadata": {},
          "execution_count": 38
        }
      ]
    },
    {
      "cell_type": "code",
      "source": [
        "np.char.upper(arr)"
      ],
      "metadata": {
        "colab": {
          "base_uri": "https://localhost:8080/"
        },
        "id": "cEk48TxaonGH",
        "outputId": "5b0a1392-b9d8-4cf0-fc99-163e0c15550f"
      },
      "execution_count": 39,
      "outputs": [
        {
          "output_type": "execute_result",
          "data": {
            "text/plain": [
              "array(['BAT', 'CAT', 'RAT'], dtype='<U3')"
            ]
          },
          "metadata": {},
          "execution_count": 39
        }
      ]
    },
    {
      "cell_type": "code",
      "source": [
        "np.char.capitalize(arr)"
      ],
      "metadata": {
        "colab": {
          "base_uri": "https://localhost:8080/"
        },
        "id": "741LGZ4ronOs",
        "outputId": "a3a494d5-52fa-45db-bbb8-efb001ac4138"
      },
      "execution_count": 40,
      "outputs": [
        {
          "output_type": "execute_result",
          "data": {
            "text/plain": [
              "array(['Bat', 'Cat', 'Rat'], dtype='<U3')"
            ]
          },
          "metadata": {},
          "execution_count": 40
        }
      ]
    },
    {
      "cell_type": "code",
      "source": [
        "np.char.title(arr)"
      ],
      "metadata": {
        "colab": {
          "base_uri": "https://localhost:8080/"
        },
        "id": "DOtT1V6QonXu",
        "outputId": "f63d8093-8e29-4dfa-afef-3cab3772f64b"
      },
      "execution_count": 41,
      "outputs": [
        {
          "output_type": "execute_result",
          "data": {
            "text/plain": [
              "array(['Bat', 'Cat', 'Rat'], dtype='<U3')"
            ]
          },
          "metadata": {},
          "execution_count": 41
        }
      ]
    },
    {
      "cell_type": "markdown",
      "source": [
        "#Mathematical Funtions on Arrays"
      ],
      "metadata": {
        "id": "UKfnfHKRp2n0"
      }
    },
    {
      "cell_type": "code",
      "source": [
        "arr1"
      ],
      "metadata": {
        "colab": {
          "base_uri": "https://localhost:8080/"
        },
        "id": "EqUDFor1onem",
        "outputId": "038e8205-f38b-46a5-8e63-4af448432453"
      },
      "execution_count": 42,
      "outputs": [
        {
          "output_type": "execute_result",
          "data": {
            "text/plain": [
              "array([[9, 7, 1, 4],\n",
              "       [1, 3, 8, 9],\n",
              "       [6, 7, 5, 3]])"
            ]
          },
          "metadata": {},
          "execution_count": 42
        }
      ]
    },
    {
      "cell_type": "code",
      "source": [
        "np.sin(arr1)"
      ],
      "metadata": {
        "colab": {
          "base_uri": "https://localhost:8080/"
        },
        "id": "-el3SI6ZpjTA",
        "outputId": "93713860-ccb3-4ede-a982-39144bc11d56"
      },
      "execution_count": 43,
      "outputs": [
        {
          "output_type": "execute_result",
          "data": {
            "text/plain": [
              "array([[ 0.41211849,  0.6569866 ,  0.84147098, -0.7568025 ],\n",
              "       [ 0.84147098,  0.14112001,  0.98935825,  0.41211849],\n",
              "       [-0.2794155 ,  0.6569866 , -0.95892427,  0.14112001]])"
            ]
          },
          "metadata": {},
          "execution_count": 43
        }
      ]
    },
    {
      "cell_type": "code",
      "source": [
        "np.cos(arr1)"
      ],
      "metadata": {
        "colab": {
          "base_uri": "https://localhost:8080/"
        },
        "id": "YposraylpjKP",
        "outputId": "ae08d148-a4e6-4ea6-b660-b08bfd8324b8"
      },
      "execution_count": 44,
      "outputs": [
        {
          "output_type": "execute_result",
          "data": {
            "text/plain": [
              "array([[-0.91113026,  0.75390225,  0.54030231, -0.65364362],\n",
              "       [ 0.54030231, -0.9899925 , -0.14550003, -0.91113026],\n",
              "       [ 0.96017029,  0.75390225,  0.28366219, -0.9899925 ]])"
            ]
          },
          "metadata": {},
          "execution_count": 44
        }
      ]
    },
    {
      "cell_type": "code",
      "source": [
        "np.tan(arr1)"
      ],
      "metadata": {
        "colab": {
          "base_uri": "https://localhost:8080/"
        },
        "id": "W7UvsUW8pjBU",
        "outputId": "5d21c75e-4e3f-43e3-cf93-3de4176944f9"
      },
      "execution_count": 45,
      "outputs": [
        {
          "output_type": "execute_result",
          "data": {
            "text/plain": [
              "array([[-0.45231566,  0.87144798,  1.55740772,  1.15782128],\n",
              "       [ 1.55740772, -0.14254654, -6.79971146, -0.45231566],\n",
              "       [-0.29100619,  0.87144798, -3.38051501, -0.14254654]])"
            ]
          },
          "metadata": {},
          "execution_count": 45
        }
      ]
    },
    {
      "cell_type": "code",
      "source": [
        "np.log10(arr1)"
      ],
      "metadata": {
        "colab": {
          "base_uri": "https://localhost:8080/"
        },
        "id": "v6KCwArHpi5S",
        "outputId": "0b119649-7efa-4a04-89b4-a4c55a786f8c"
      },
      "execution_count": 46,
      "outputs": [
        {
          "output_type": "execute_result",
          "data": {
            "text/plain": [
              "array([[0.95424251, 0.84509804, 0.        , 0.60205999],\n",
              "       [0.        , 0.47712125, 0.90308999, 0.95424251],\n",
              "       [0.77815125, 0.84509804, 0.69897   , 0.47712125]])"
            ]
          },
          "metadata": {},
          "execution_count": 46
        }
      ]
    },
    {
      "cell_type": "code",
      "source": [
        "np.power(arr1, 2)"
      ],
      "metadata": {
        "colab": {
          "base_uri": "https://localhost:8080/"
        },
        "id": "Ivzr66LgpiwT",
        "outputId": "ab180e3e-459a-45a1-84d6-cf18aa4cfac6"
      },
      "execution_count": 47,
      "outputs": [
        {
          "output_type": "execute_result",
          "data": {
            "text/plain": [
              "array([[81, 49,  1, 16],\n",
              "       [ 1,  9, 64, 81],\n",
              "       [36, 49, 25,  9]])"
            ]
          },
          "metadata": {},
          "execution_count": 47
        }
      ]
    },
    {
      "cell_type": "code",
      "source": [
        "np.mean(arr1)"
      ],
      "metadata": {
        "colab": {
          "base_uri": "https://localhost:8080/"
        },
        "id": "urCsjOmQpipH",
        "outputId": "72761ec9-8c1b-423c-d989-ce8485a978ec"
      },
      "execution_count": 48,
      "outputs": [
        {
          "output_type": "execute_result",
          "data": {
            "text/plain": [
              "5.25"
            ]
          },
          "metadata": {},
          "execution_count": 48
        }
      ]
    },
    {
      "cell_type": "code",
      "source": [
        "np.max(arr1)"
      ],
      "metadata": {
        "colab": {
          "base_uri": "https://localhost:8080/"
        },
        "id": "L6cyWgSvpie3",
        "outputId": "2c367696-a8bd-4026-ee71-46dda09d8cfa"
      },
      "execution_count": 49,
      "outputs": [
        {
          "output_type": "execute_result",
          "data": {
            "text/plain": [
              "9"
            ]
          },
          "metadata": {},
          "execution_count": 49
        }
      ]
    },
    {
      "cell_type": "code",
      "source": [
        "np.std(arr1)"
      ],
      "metadata": {
        "colab": {
          "base_uri": "https://localhost:8080/"
        },
        "id": "OcGniithonl5",
        "outputId": "e7809601-38e7-400a-8752-5adce70d75dc"
      },
      "execution_count": 50,
      "outputs": [
        {
          "output_type": "execute_result",
          "data": {
            "text/plain": [
              "2.742413778650722"
            ]
          },
          "metadata": {},
          "execution_count": 50
        }
      ]
    },
    {
      "cell_type": "code",
      "source": [
        "np.var(arr1)"
      ],
      "metadata": {
        "colab": {
          "base_uri": "https://localhost:8080/"
        },
        "id": "tJ3NU9uCnobh",
        "outputId": "bca0bb06-2f33-4816-fd8f-ed291c75367f"
      },
      "execution_count": 51,
      "outputs": [
        {
          "output_type": "execute_result",
          "data": {
            "text/plain": [
              "7.520833333333333"
            ]
          },
          "metadata": {},
          "execution_count": 51
        }
      ]
    },
    {
      "cell_type": "code",
      "source": [
        "np.subtract(arr1, arr2)"
      ],
      "metadata": {
        "colab": {
          "base_uri": "https://localhost:8080/"
        },
        "id": "qDLyj96SqUNN",
        "outputId": "2302d4d2-747c-4ab5-bd72-183cae041138"
      },
      "execution_count": 52,
      "outputs": [
        {
          "output_type": "execute_result",
          "data": {
            "text/plain": [
              "array([[ 6,  2,  0, -3],\n",
              "       [-2,  0,  4,  3],\n",
              "       [ 1,  2,  3,  2]])"
            ]
          },
          "metadata": {},
          "execution_count": 52
        }
      ]
    },
    {
      "cell_type": "code",
      "source": [
        "np.multiply(arr1, arr2)"
      ],
      "metadata": {
        "colab": {
          "base_uri": "https://localhost:8080/"
        },
        "id": "UkSFlt4fqUHE",
        "outputId": "0d4b770a-e9f1-43fa-a3a6-8779dc08b99a"
      },
      "execution_count": 53,
      "outputs": [
        {
          "output_type": "execute_result",
          "data": {
            "text/plain": [
              "array([[27, 35,  1, 28],\n",
              "       [ 3,  9, 32, 54],\n",
              "       [30, 35, 10,  3]])"
            ]
          },
          "metadata": {},
          "execution_count": 53
        }
      ]
    },
    {
      "cell_type": "code",
      "source": [
        "np.mod(arr1, arr2)\n",
        "#returns the index wise remainder"
      ],
      "metadata": {
        "colab": {
          "base_uri": "https://localhost:8080/"
        },
        "id": "jjkuwEL8qUAY",
        "outputId": "6163b1a3-c205-4874-a7d1-c016ff6aeabb"
      },
      "execution_count": 56,
      "outputs": [
        {
          "output_type": "execute_result",
          "data": {
            "text/plain": [
              "array([[0, 2, 0, 4],\n",
              "       [1, 0, 0, 3],\n",
              "       [1, 2, 1, 0]])"
            ]
          },
          "metadata": {},
          "execution_count": 56
        }
      ]
    },
    {
      "cell_type": "code",
      "source": [
        "np.power(arr1, arr2)"
      ],
      "metadata": {
        "colab": {
          "base_uri": "https://localhost:8080/"
        },
        "id": "X74OikDcqT5s",
        "outputId": "a22943cd-9c99-4aa6-ba54-272be17ca431"
      },
      "execution_count": 55,
      "outputs": [
        {
          "output_type": "execute_result",
          "data": {
            "text/plain": [
              "array([[   729,  16807,      1,  16384],\n",
              "       [     1,     27,   4096, 531441],\n",
              "       [  7776,  16807,     25,      3]])"
            ]
          },
          "metadata": {},
          "execution_count": 55
        }
      ]
    },
    {
      "cell_type": "code",
      "source": [
        "np.sqrt(arr1)"
      ],
      "metadata": {
        "colab": {
          "base_uri": "https://localhost:8080/"
        },
        "id": "cVAn4ocgqTyS",
        "outputId": "a4a0c533-b9a7-4dad-c862-19bed73d2af0"
      },
      "execution_count": 58,
      "outputs": [
        {
          "output_type": "execute_result",
          "data": {
            "text/plain": [
              "array([[3.        , 2.64575131, 1.        , 2.        ],\n",
              "       [1.        , 1.73205081, 2.82842712, 3.        ],\n",
              "       [2.44948974, 2.64575131, 2.23606798, 1.73205081]])"
            ]
          },
          "metadata": {},
          "execution_count": 58
        }
      ]
    },
    {
      "cell_type": "code",
      "source": [
        "np.exp(arr1)"
      ],
      "metadata": {
        "colab": {
          "base_uri": "https://localhost:8080/"
        },
        "id": "SLTQaExEqTsl",
        "outputId": "85db595a-cc40-49d1-9506-668dd6ea2fce"
      },
      "execution_count": 59,
      "outputs": [
        {
          "output_type": "execute_result",
          "data": {
            "text/plain": [
              "array([[8.10308393e+03, 1.09663316e+03, 2.71828183e+00, 5.45981500e+01],\n",
              "       [2.71828183e+00, 2.00855369e+01, 2.98095799e+03, 8.10308393e+03],\n",
              "       [4.03428793e+02, 1.09663316e+03, 1.48413159e+02, 2.00855369e+01]])"
            ]
          },
          "metadata": {},
          "execution_count": 59
        }
      ]
    },
    {
      "cell_type": "markdown",
      "source": [
        "#Sorting and Searching"
      ],
      "metadata": {
        "id": "wQT8yRI2rXuC"
      }
    },
    {
      "cell_type": "code",
      "source": [
        "arr = np.array([5,6,1,2])\n",
        "arr"
      ],
      "metadata": {
        "colab": {
          "base_uri": "https://localhost:8080/"
        },
        "id": "4encl-CHqTma",
        "outputId": "4214d6f4-ece5-4598-e704-9414336332df"
      },
      "execution_count": 61,
      "outputs": [
        {
          "output_type": "execute_result",
          "data": {
            "text/plain": [
              "array([5, 6, 1, 2])"
            ]
          },
          "metadata": {},
          "execution_count": 61
        }
      ]
    },
    {
      "cell_type": "code",
      "source": [
        "np.sort(arr)"
      ],
      "metadata": {
        "colab": {
          "base_uri": "https://localhost:8080/"
        },
        "id": "wntSmBrbrQWZ",
        "outputId": "14909ce3-ee64-49e4-fbe1-e5caaa59c53e"
      },
      "execution_count": 62,
      "outputs": [
        {
          "output_type": "execute_result",
          "data": {
            "text/plain": [
              "array([1, 2, 5, 6])"
            ]
          },
          "metadata": {},
          "execution_count": 62
        }
      ]
    },
    {
      "cell_type": "code",
      "source": [
        "np.searchsorted(arr, 3)"
      ],
      "metadata": {
        "colab": {
          "base_uri": "https://localhost:8080/"
        },
        "id": "JUHwFEdhrQOC",
        "outputId": "b62ce3f2-4533-46da-810c-aa8a94b6e544"
      },
      "execution_count": 64,
      "outputs": [
        {
          "output_type": "execute_result",
          "data": {
            "text/plain": [
              "4"
            ]
          },
          "metadata": {},
          "execution_count": 64
        }
      ]
    },
    {
      "cell_type": "code",
      "source": [
        "np.searchsorted([1,2,3,4,5], 3)"
      ],
      "metadata": {
        "colab": {
          "base_uri": "https://localhost:8080/"
        },
        "id": "Pzotiyk6rQGQ",
        "outputId": "7d59442f-9dfb-45c9-cb99-eaa9d9ca7f97"
      },
      "execution_count": 65,
      "outputs": [
        {
          "output_type": "execute_result",
          "data": {
            "text/plain": [
              "2"
            ]
          },
          "metadata": {},
          "execution_count": 65
        }
      ]
    },
    {
      "cell_type": "code",
      "source": [
        "arr1 = np.array([1,2,5,7,0,0,4,0,5,0,6,0,0])\n",
        "np.count_nonzero(arr1)"
      ],
      "metadata": {
        "colab": {
          "base_uri": "https://localhost:8080/"
        },
        "id": "PiBeKzjLrP-p",
        "outputId": "169bdb8a-a01a-4670-b9ba-249e6a7c8455"
      },
      "execution_count": 68,
      "outputs": [
        {
          "output_type": "execute_result",
          "data": {
            "text/plain": [
              "7"
            ]
          },
          "metadata": {},
          "execution_count": 68
        }
      ]
    },
    {
      "cell_type": "code",
      "source": [
        "arr1 > 0"
      ],
      "metadata": {
        "colab": {
          "base_uri": "https://localhost:8080/"
        },
        "id": "ihnfG1VvrP3G",
        "outputId": "46a516e0-c873-4b22-d4ef-ef81f621fd35"
      },
      "execution_count": 69,
      "outputs": [
        {
          "output_type": "execute_result",
          "data": {
            "text/plain": [
              "array([ True,  True,  True,  True, False, False,  True, False,  True,\n",
              "       False,  True, False, False])"
            ]
          },
          "metadata": {},
          "execution_count": 69
        }
      ]
    },
    {
      "cell_type": "code",
      "source": [
        "np.where(arr1 > 0)"
      ],
      "metadata": {
        "colab": {
          "base_uri": "https://localhost:8080/"
        },
        "id": "5szdSD7MrPvI",
        "outputId": "c43c230c-d5ec-42b1-afce-5d176af3e3a9"
      },
      "execution_count": 70,
      "outputs": [
        {
          "output_type": "execute_result",
          "data": {
            "text/plain": [
              "(array([ 0,  1,  2,  3,  6,  8, 10]),)"
            ]
          },
          "metadata": {},
          "execution_count": 70
        }
      ]
    },
    {
      "cell_type": "code",
      "source": [
        "np.extract(arr1 > 0, arr1)"
      ],
      "metadata": {
        "colab": {
          "base_uri": "https://localhost:8080/"
        },
        "id": "ajlUPWeJqTfl",
        "outputId": "2b8bc57c-9458-409a-a8be-28c4a70c1227"
      },
      "execution_count": 72,
      "outputs": [
        {
          "output_type": "execute_result",
          "data": {
            "text/plain": [
              "array([1, 2, 5, 7, 4, 5, 6])"
            ]
          },
          "metadata": {},
          "execution_count": 72
        }
      ]
    },
    {
      "cell_type": "code",
      "source": [
        "arr1 = np.array([2,0,5,4,3,0])\n",
        "arr1.byteswap()"
      ],
      "metadata": {
        "colab": {
          "base_uri": "https://localhost:8080/"
        },
        "id": "ei_PX7c3noee",
        "outputId": "61a76f7e-e8ad-49d3-fbb2-4deeb59a93db"
      },
      "execution_count": 74,
      "outputs": [
        {
          "output_type": "execute_result",
          "data": {
            "text/plain": [
              "array([144115188075855872,                  0, 360287970189639680,\n",
              "       288230376151711744, 216172782113783808,                  0])"
            ]
          },
          "metadata": {},
          "execution_count": 74
        }
      ]
    },
    {
      "cell_type": "markdown",
      "source": [
        "#Matrix Operations"
      ],
      "metadata": {
        "id": "BkC5jXWEuevx"
      }
    },
    {
      "cell_type": "code",
      "source": [
        "import numpy.matlib as nm"
      ],
      "metadata": {
        "id": "5R14_CWLuIZQ"
      },
      "execution_count": 75,
      "outputs": []
    },
    {
      "cell_type": "code",
      "source": [
        "nm.zeros(5)"
      ],
      "metadata": {
        "colab": {
          "base_uri": "https://localhost:8080/"
        },
        "id": "8F2inH4Oumsx",
        "outputId": "9b0bba58-ad0d-4556-ad48-bfc537fcf0ec"
      },
      "execution_count": 76,
      "outputs": [
        {
          "output_type": "execute_result",
          "data": {
            "text/plain": [
              "matrix([[0., 0., 0., 0., 0.]])"
            ]
          },
          "metadata": {},
          "execution_count": 76
        }
      ]
    },
    {
      "cell_type": "code",
      "source": [
        "nm.ones((3,4))"
      ],
      "metadata": {
        "colab": {
          "base_uri": "https://localhost:8080/"
        },
        "id": "fPeQcxLWumle",
        "outputId": "65bc9903-cd9a-47bd-9fda-ad7a6d66806c"
      },
      "execution_count": 77,
      "outputs": [
        {
          "output_type": "execute_result",
          "data": {
            "text/plain": [
              "matrix([[1., 1., 1., 1.],\n",
              "        [1., 1., 1., 1.],\n",
              "        [1., 1., 1., 1.]])"
            ]
          },
          "metadata": {},
          "execution_count": 77
        }
      ]
    },
    {
      "cell_type": "code",
      "source": [
        "arr1 = np.random.randint(1, 10, (3,3))\n",
        "arr2 = np.random.randint(1, 10, (3,3))"
      ],
      "metadata": {
        "id": "XZm1QomBumd6"
      },
      "execution_count": 81,
      "outputs": []
    },
    {
      "cell_type": "code",
      "source": [
        "arr1"
      ],
      "metadata": {
        "colab": {
          "base_uri": "https://localhost:8080/"
        },
        "id": "BM9fU2gSuzuR",
        "outputId": "b55cc0df-c327-4bf2-e19f-c12760712672"
      },
      "execution_count": 82,
      "outputs": [
        {
          "output_type": "execute_result",
          "data": {
            "text/plain": [
              "array([[3, 5, 9],\n",
              "       [9, 7, 4],\n",
              "       [2, 8, 8]])"
            ]
          },
          "metadata": {},
          "execution_count": 82
        }
      ]
    },
    {
      "cell_type": "code",
      "source": [
        "arr2"
      ],
      "metadata": {
        "colab": {
          "base_uri": "https://localhost:8080/"
        },
        "id": "w7uPMbZ8uzqw",
        "outputId": "c7a76dbd-4d02-412e-f58e-d05548cdaaed"
      },
      "execution_count": 83,
      "outputs": [
        {
          "output_type": "execute_result",
          "data": {
            "text/plain": [
              "array([[2, 1, 9],\n",
              "       [8, 9, 9],\n",
              "       [6, 3, 1]])"
            ]
          },
          "metadata": {},
          "execution_count": 83
        }
      ]
    },
    {
      "cell_type": "code",
      "source": [
        "arr1 @ arr2\n",
        "#matrix multiplication"
      ],
      "metadata": {
        "colab": {
          "base_uri": "https://localhost:8080/"
        },
        "id": "iBmoLDwAuzpK",
        "outputId": "f1df1490-1d30-4dfa-f5f2-061956904bad"
      },
      "execution_count": 85,
      "outputs": [
        {
          "output_type": "execute_result",
          "data": {
            "text/plain": [
              "array([[100,  75,  81],\n",
              "       [ 98,  84, 148],\n",
              "       [116,  98,  98]])"
            ]
          },
          "metadata": {},
          "execution_count": 85
        }
      ]
    },
    {
      "cell_type": "markdown",
      "source": [
        "Solving system of linear equations"
      ],
      "metadata": {
        "id": "pzoZoga7vwT6"
      }
    },
    {
      "cell_type": "code",
      "source": [
        "#   7x + 5y - 3z = 16\n",
        "#   2x - 5y + 2z = -8\n",
        "#   5x + 3y - 7z = 0"
      ],
      "metadata": {
        "id": "IT6bn4vZumXT"
      },
      "execution_count": 86,
      "outputs": []
    },
    {
      "cell_type": "code",
      "source": [
        "coefficients = np.array([[7,5,-3], [2,-5,2], [5,3,-7]])\n",
        "coefficients"
      ],
      "metadata": {
        "colab": {
          "base_uri": "https://localhost:8080/"
        },
        "id": "ycFC9ei9umQF",
        "outputId": "ecd97ccf-a9bf-47ee-e148-b0c67c303823"
      },
      "execution_count": 88,
      "outputs": [
        {
          "output_type": "execute_result",
          "data": {
            "text/plain": [
              "array([[ 7,  5, -3],\n",
              "       [ 2, -5,  2],\n",
              "       [ 5,  3, -7]])"
            ]
          },
          "metadata": {},
          "execution_count": 88
        }
      ]
    },
    {
      "cell_type": "code",
      "source": [
        "constant_values = np.array([16, -8, 0])\n",
        "constant_values"
      ],
      "metadata": {
        "colab": {
          "base_uri": "https://localhost:8080/"
        },
        "id": "bfh9_MVcumIh",
        "outputId": "f224a451-1605-4895-8cfa-8c3b6b902479"
      },
      "execution_count": 91,
      "outputs": [
        {
          "output_type": "execute_result",
          "data": {
            "text/plain": [
              "array([16, -8,  0])"
            ]
          },
          "metadata": {},
          "execution_count": 91
        }
      ]
    },
    {
      "cell_type": "code",
      "source": [
        "np.linalg.solve(coefficients, constant_values)"
      ],
      "metadata": {
        "colab": {
          "base_uri": "https://localhost:8080/"
        },
        "id": "MmlYkGxlumBN",
        "outputId": "ad9a44cb-bd16-421b-ac80-118f842867f2"
      },
      "execution_count": 92,
      "outputs": [
        {
          "output_type": "execute_result",
          "data": {
            "text/plain": [
              "array([1.11304348, 2.85217391, 2.0173913 ])"
            ]
          },
          "metadata": {},
          "execution_count": 92
        }
      ]
    },
    {
      "cell_type": "code",
      "source": [
        "np.linalg.det(arr1)"
      ],
      "metadata": {
        "colab": {
          "base_uri": "https://localhost:8080/"
        },
        "id": "G8taLtpCul5k",
        "outputId": "8d82db4f-14b7-4df9-df8e-122ed7865451"
      },
      "execution_count": 95,
      "outputs": [
        {
          "output_type": "execute_result",
          "data": {
            "text/plain": [
              "274.00000000000006"
            ]
          },
          "metadata": {},
          "execution_count": 95
        }
      ]
    },
    {
      "cell_type": "code",
      "source": [
        "np.linalg.inv(arr1)"
      ],
      "metadata": {
        "colab": {
          "base_uri": "https://localhost:8080/"
        },
        "id": "mwLt6HOQxRm7",
        "outputId": "2bdb41bc-dcbb-4040-8f72-e6245902f40b"
      },
      "execution_count": 96,
      "outputs": [
        {
          "output_type": "execute_result",
          "data": {
            "text/plain": [
              "array([[ 0.08759124,  0.11678832, -0.15693431],\n",
              "       [-0.23357664,  0.02189781,  0.25182482],\n",
              "       [ 0.21167883, -0.05109489, -0.08759124]])"
            ]
          },
          "metadata": {},
          "execution_count": 96
        }
      ]
    },
    {
      "cell_type": "code",
      "source": [],
      "metadata": {
        "id": "_4z6TqL4xtOQ"
      },
      "execution_count": null,
      "outputs": []
    },
    {
      "cell_type": "code",
      "source": [],
      "metadata": {
        "id": "ezUyqe7oxtLW"
      },
      "execution_count": null,
      "outputs": []
    },
    {
      "cell_type": "code",
      "source": [],
      "metadata": {
        "id": "GD8fxIxdxtIz"
      },
      "execution_count": null,
      "outputs": []
    },
    {
      "cell_type": "code",
      "source": [],
      "metadata": {
        "id": "5HWpEP3TxtGW"
      },
      "execution_count": null,
      "outputs": []
    },
    {
      "cell_type": "code",
      "source": [],
      "metadata": {
        "id": "gdTE-3JcxtEP"
      },
      "execution_count": null,
      "outputs": []
    },
    {
      "cell_type": "code",
      "source": [],
      "metadata": {
        "id": "ZnYJS9qextBD"
      },
      "execution_count": null,
      "outputs": []
    },
    {
      "cell_type": "code",
      "source": [],
      "metadata": {
        "id": "ZGrQseICxs_D"
      },
      "execution_count": null,
      "outputs": []
    },
    {
      "cell_type": "code",
      "source": [],
      "metadata": {
        "id": "dH0m9WT4xs1G"
      },
      "execution_count": null,
      "outputs": []
    }
  ]
}