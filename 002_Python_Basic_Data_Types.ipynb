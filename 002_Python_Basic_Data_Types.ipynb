{
 "cells": [
  {
   "cell_type": "code",
   "execution_count": 1,
   "id": "f92bbf5e-d53e-4812-ac05-4fca72ceeb5b",
   "metadata": {},
   "outputs": [],
   "source": [
    "l = []"
   ]
  },
  {
   "cell_type": "code",
   "execution_count": 2,
   "id": "9953368e-0aae-45ce-a304-910cb3d513b6",
   "metadata": {},
   "outputs": [
    {
     "data": {
      "text/plain": [
       "list"
      ]
     },
     "execution_count": 2,
     "metadata": {},
     "output_type": "execute_result"
    }
   ],
   "source": [
    "type(l)"
   ]
  },
  {
   "cell_type": "code",
   "execution_count": 3,
   "id": "dccbf5a9-c739-4edb-9aa7-a90d4bab9e77",
   "metadata": {},
   "outputs": [],
   "source": [
    "l1 = [1,2,3,4,\"vats\",3+6j,True,54.21]"
   ]
  },
  {
   "cell_type": "code",
   "execution_count": 4,
   "id": "10b7ff43-4eea-4c2e-b77b-2aa8de4b47c8",
   "metadata": {},
   "outputs": [
    {
     "data": {
      "text/plain": [
       "1"
      ]
     },
     "execution_count": 4,
     "metadata": {},
     "output_type": "execute_result"
    }
   ],
   "source": [
    "l1[0]"
   ]
  },
  {
   "cell_type": "code",
   "execution_count": 5,
   "id": "9b756ac0-ce04-4ca2-a919-aa361a31fd7e",
   "metadata": {},
   "outputs": [
    {
     "data": {
      "text/plain": [
       "54.21"
      ]
     },
     "execution_count": 5,
     "metadata": {},
     "output_type": "execute_result"
    }
   ],
   "source": [
    "l1[-1]"
   ]
  },
  {
   "cell_type": "code",
   "execution_count": 6,
   "id": "e824946c-6e42-42bd-b661-fc8eb7ff43f2",
   "metadata": {},
   "outputs": [],
   "source": [
    "l2 = [3,5,6]"
   ]
  },
  {
   "cell_type": "code",
   "execution_count": 7,
   "id": "97d7f490-27d1-4136-9541-c779bdf2c6e7",
   "metadata": {},
   "outputs": [
    {
     "data": {
      "text/plain": [
       "[1, 2, 3, 4, 'vats', (3+6j), True, 54.21, 3, 5, 6]"
      ]
     },
     "execution_count": 7,
     "metadata": {},
     "output_type": "execute_result"
    }
   ],
   "source": [
    "l1+l2"
   ]
  },
  {
   "cell_type": "code",
   "execution_count": 8,
   "id": "fec67895-8bfe-408d-b53a-4b1ffae35b4e",
   "metadata": {},
   "outputs": [
    {
     "data": {
      "text/plain": [
       "['v', 'a', 't', 's', 'a', 'l', 'y', 'a']"
      ]
     },
     "execution_count": 8,
     "metadata": {},
     "output_type": "execute_result"
    }
   ],
   "source": [
    "list(\"vatsalya\")"
   ]
  },
  {
   "cell_type": "code",
   "execution_count": 9,
   "id": "230c1ba6-71c8-45b6-8103-bc772eb10481",
   "metadata": {},
   "outputs": [
    {
     "data": {
      "text/plain": [
       "[3, 5, 6, 3, 5, 6]"
      ]
     },
     "execution_count": 9,
     "metadata": {},
     "output_type": "execute_result"
    }
   ],
   "source": [
    "l2*2"
   ]
  },
  {
   "cell_type": "code",
   "execution_count": 10,
   "id": "113a10c8-9705-4bdd-8039-16feb93b704d",
   "metadata": {},
   "outputs": [
    {
     "data": {
      "text/plain": [
       "[3, 5, 6]"
      ]
     },
     "execution_count": 10,
     "metadata": {},
     "output_type": "execute_result"
    }
   ],
   "source": [
    "l2"
   ]
  },
  {
   "cell_type": "code",
   "execution_count": 11,
   "id": "b2319b8b-a7ad-486d-b113-aaa3b6012e22",
   "metadata": {},
   "outputs": [],
   "source": [
    "l2[0] = 300"
   ]
  },
  {
   "cell_type": "code",
   "execution_count": 12,
   "id": "02df1c91-11d7-4ad5-b9c9-dcb3bbe75e3e",
   "metadata": {},
   "outputs": [
    {
     "data": {
      "text/plain": [
       "[300, 5, 6]"
      ]
     },
     "execution_count": 12,
     "metadata": {},
     "output_type": "execute_result"
    }
   ],
   "source": [
    "l2"
   ]
  },
  {
   "cell_type": "markdown",
   "id": "1e2d1c28-46d1-4d28-a698-8121792fe82e",
   "metadata": {},
   "source": [
    "List is mutable"
   ]
  },
  {
   "cell_type": "code",
   "execution_count": 13,
   "id": "3be7df5b-7797-4381-b3a6-0db721d30bba",
   "metadata": {},
   "outputs": [],
   "source": [
    "t = (1,2,3,4,\"vatsalya\",75.32,True)"
   ]
  },
  {
   "cell_type": "code",
   "execution_count": 14,
   "id": "bd889b32-fd9d-4230-b79a-4192a3050faf",
   "metadata": {},
   "outputs": [
    {
     "data": {
      "text/plain": [
       "tuple"
      ]
     },
     "execution_count": 14,
     "metadata": {},
     "output_type": "execute_result"
    }
   ],
   "source": [
    "type(t)"
   ]
  },
  {
   "cell_type": "code",
   "execution_count": 15,
   "id": "cf0b7a47-0ca1-45d4-9600-9cc75db7195e",
   "metadata": {},
   "outputs": [
    {
     "data": {
      "text/plain": [
       "(True, 75.32, 'vatsalya', 4, 3, 2, 1)"
      ]
     },
     "execution_count": 15,
     "metadata": {},
     "output_type": "execute_result"
    }
   ],
   "source": [
    "t[::-1]"
   ]
  },
  {
   "cell_type": "code",
   "execution_count": 16,
   "id": "e2c8d990-2f5f-4b77-973c-93fa95f67c60",
   "metadata": {},
   "outputs": [
    {
     "ename": "TypeError",
     "evalue": "'tuple' object does not support item assignment",
     "output_type": "error",
     "traceback": [
      "\u001b[0;31m---------------------------------------------------------------------------\u001b[0m",
      "\u001b[0;31mTypeError\u001b[0m                                 Traceback (most recent call last)",
      "Cell \u001b[0;32mIn[16], line 1\u001b[0m\n\u001b[0;32m----> 1\u001b[0m \u001b[43mt\u001b[49m\u001b[43m[\u001b[49m\u001b[38;5;241;43m0\u001b[39;49m\u001b[43m]\u001b[49m \u001b[38;5;241m=\u001b[39m \u001b[38;5;241m100\u001b[39m\n",
      "\u001b[0;31mTypeError\u001b[0m: 'tuple' object does not support item assignment"
     ]
    }
   ],
   "source": [
    "t[0] = 100"
   ]
  },
  {
   "cell_type": "markdown",
   "id": "1522d9e5-a8f2-432c-8fb8-0100ef78fc05",
   "metadata": {},
   "source": [
    "Tuples are immutable"
   ]
  },
  {
   "cell_type": "code",
   "execution_count": 17,
   "id": "5b3b6505-0dc4-4dd6-bbaa-c329eebf18ec",
   "metadata": {},
   "outputs": [],
   "source": [
    "t2 = (3,4,6)"
   ]
  },
  {
   "cell_type": "code",
   "execution_count": 19,
   "id": "e9b9ee91-9244-4f7f-8774-4c4d1099bcb1",
   "metadata": {},
   "outputs": [
    {
     "data": {
      "text/plain": [
       "(1, 2, 3, 4, 'vatsalya', 75.32, True, 3, 4, 6)"
      ]
     },
     "execution_count": 19,
     "metadata": {},
     "output_type": "execute_result"
    }
   ],
   "source": [
    "t+t2"
   ]
  },
  {
   "cell_type": "code",
   "execution_count": 20,
   "id": "16d18d34-ea69-4d18-a925-df21ce2906bb",
   "metadata": {},
   "outputs": [
    {
     "data": {
      "text/plain": [
       "(3, 4, 6, 3, 4, 6)"
      ]
     },
     "execution_count": 20,
     "metadata": {},
     "output_type": "execute_result"
    }
   ],
   "source": [
    "t2*2"
   ]
  },
  {
   "cell_type": "code",
   "execution_count": 21,
   "id": "e64fd1fa-1d37-49e1-bae6-aaca82435603",
   "metadata": {},
   "outputs": [
    {
     "data": {
      "text/plain": [
       "(1, 2, 3, 4, 'vatsalya', 75.32, True)"
      ]
     },
     "execution_count": 21,
     "metadata": {},
     "output_type": "execute_result"
    }
   ],
   "source": [
    "t"
   ]
  },
  {
   "cell_type": "code",
   "execution_count": 22,
   "id": "58bfc1b5-1186-4459-bf4e-df05fe62c01b",
   "metadata": {},
   "outputs": [
    {
     "data": {
      "text/plain": [
       "[1, 2, 3, 4, 'vatsalya', 75.32, True]"
      ]
     },
     "execution_count": 22,
     "metadata": {},
     "output_type": "execute_result"
    }
   ],
   "source": [
    "list(t)"
   ]
  },
  {
   "cell_type": "code",
   "execution_count": 23,
   "id": "0c87fc7f-ac69-48d2-b935-101b1dfd5036",
   "metadata": {},
   "outputs": [
    {
     "data": {
      "text/plain": [
       "[300, 5, 6]"
      ]
     },
     "execution_count": 23,
     "metadata": {},
     "output_type": "execute_result"
    }
   ],
   "source": [
    "l2"
   ]
  },
  {
   "cell_type": "code",
   "execution_count": 24,
   "id": "5c5491eb-c53b-4f2b-86f0-c87dae76cd5e",
   "metadata": {},
   "outputs": [
    {
     "data": {
      "text/plain": [
       "(300, 5, 6)"
      ]
     },
     "execution_count": 24,
     "metadata": {},
     "output_type": "execute_result"
    }
   ],
   "source": [
    "tuple(l2)"
   ]
  },
  {
   "cell_type": "code",
   "execution_count": 25,
   "id": "37a0b8df-342a-45ca-9727-4a5d256b97a2",
   "metadata": {},
   "outputs": [
    {
     "data": {
      "text/plain": [
       "7"
      ]
     },
     "execution_count": 25,
     "metadata": {},
     "output_type": "execute_result"
    }
   ],
   "source": [
    "len(t)"
   ]
  },
  {
   "cell_type": "code",
   "execution_count": 26,
   "id": "501d8061-2441-4aa9-907a-79b94b20e300",
   "metadata": {},
   "outputs": [
    {
     "data": {
      "text/plain": [
       "3"
      ]
     },
     "execution_count": 26,
     "metadata": {},
     "output_type": "execute_result"
    }
   ],
   "source": [
    "len(l2)"
   ]
  },
  {
   "cell_type": "code",
   "execution_count": 27,
   "id": "3f98c7c0-83cc-45bd-bb04-777e2e2ecd83",
   "metadata": {},
   "outputs": [],
   "source": [
    "s = {}"
   ]
  },
  {
   "cell_type": "code",
   "execution_count": 28,
   "id": "fd18b428-b861-492e-b4f0-6adc906bb83a",
   "metadata": {},
   "outputs": [
    {
     "data": {
      "text/plain": [
       "dict"
      ]
     },
     "execution_count": 28,
     "metadata": {},
     "output_type": "execute_result"
    }
   ],
   "source": [
    "type(s)"
   ]
  },
  {
   "cell_type": "code",
   "execution_count": 32,
   "id": "c4bca88c-c6b4-4ff5-9435-e676aa0667be",
   "metadata": {},
   "outputs": [],
   "source": [
    "s = {1,2,3,4,5,5}"
   ]
  },
  {
   "cell_type": "code",
   "execution_count": 33,
   "id": "324c03f1-428f-47ed-a795-11940af5c16d",
   "metadata": {},
   "outputs": [
    {
     "data": {
      "text/plain": [
       "set"
      ]
     },
     "execution_count": 33,
     "metadata": {},
     "output_type": "execute_result"
    }
   ],
   "source": [
    "type(s)"
   ]
  },
  {
   "cell_type": "code",
   "execution_count": 34,
   "id": "fb790300-6154-4497-b2e5-473a9cbc8850",
   "metadata": {},
   "outputs": [
    {
     "data": {
      "text/plain": [
       "{1, 2, 3, 4, 5}"
      ]
     },
     "execution_count": 34,
     "metadata": {},
     "output_type": "execute_result"
    }
   ],
   "source": [
    "s"
   ]
  },
  {
   "cell_type": "markdown",
   "id": "4cc34ec9-c27e-47cf-b6a0-30a9b723dfc6",
   "metadata": {},
   "source": [
    "Set always keeps unique values. It removes all the duplicates."
   ]
  },
  {
   "cell_type": "code",
   "execution_count": 35,
   "id": "bccb1d5d-60eb-4ceb-a33e-f7127ab6ba95",
   "metadata": {},
   "outputs": [
    {
     "data": {
      "text/plain": [
       "{1, 2, 3, 4, 5}"
      ]
     },
     "execution_count": 35,
     "metadata": {},
     "output_type": "execute_result"
    }
   ],
   "source": [
    "s"
   ]
  },
  {
   "cell_type": "code",
   "execution_count": 36,
   "id": "2661feb4-781f-48df-8ae0-44f3b4c3569a",
   "metadata": {},
   "outputs": [
    {
     "ename": "TypeError",
     "evalue": "'set' object is not subscriptable",
     "output_type": "error",
     "traceback": [
      "\u001b[0;31m---------------------------------------------------------------------------\u001b[0m",
      "\u001b[0;31mTypeError\u001b[0m                                 Traceback (most recent call last)",
      "Cell \u001b[0;32mIn[36], line 1\u001b[0m\n\u001b[0;32m----> 1\u001b[0m \u001b[43ms\u001b[49m\u001b[43m[\u001b[49m\u001b[38;5;241;43m0\u001b[39;49m\u001b[43m]\u001b[49m\n",
      "\u001b[0;31mTypeError\u001b[0m: 'set' object is not subscriptable"
     ]
    }
   ],
   "source": [
    "s[0]"
   ]
  },
  {
   "cell_type": "code",
   "execution_count": 37,
   "id": "66b6858b-59b1-4b39-8c6a-76076b86eaf4",
   "metadata": {},
   "outputs": [],
   "source": [
    "d = {}"
   ]
  },
  {
   "cell_type": "code",
   "execution_count": 38,
   "id": "208d3c67-26ad-4dee-9af1-95cc38129113",
   "metadata": {},
   "outputs": [
    {
     "data": {
      "text/plain": [
       "dict"
      ]
     },
     "execution_count": 38,
     "metadata": {},
     "output_type": "execute_result"
    }
   ],
   "source": [
    "type(d)"
   ]
  },
  {
   "cell_type": "code",
   "execution_count": 40,
   "id": "d5d0a15e-4f53-4ec0-b9bb-e48117b02142",
   "metadata": {},
   "outputs": [],
   "source": [
    "d = {\"name\" : \"vatsalya\", \"age\" : 21, \"subjects\" : [\"english\",\"maths\",\"science\"]}"
   ]
  },
  {
   "cell_type": "code",
   "execution_count": 41,
   "id": "959dfa5c-40a3-4e0b-94ce-fc1e19f95e08",
   "metadata": {},
   "outputs": [
    {
     "data": {
      "text/plain": [
       "{'name': 'vatsalya', 'age': 21, 'subjects': ['english', 'maths', 'science']}"
      ]
     },
     "execution_count": 41,
     "metadata": {},
     "output_type": "execute_result"
    }
   ],
   "source": [
    "d"
   ]
  },
  {
   "cell_type": "code",
   "execution_count": 43,
   "id": "43dcb46b-a5f5-4f06-a794-08d1af707859",
   "metadata": {},
   "outputs": [],
   "source": [
    "d1 = {\"name\" : \"vatsalya\" , \"name\" : \"mishra\"}"
   ]
  },
  {
   "cell_type": "code",
   "execution_count": 44,
   "id": "5336e068-8c07-4fe1-aaf6-7fd49c4ab65c",
   "metadata": {},
   "outputs": [
    {
     "data": {
      "text/plain": [
       "{'name': 'mishra'}"
      ]
     },
     "execution_count": 44,
     "metadata": {},
     "output_type": "execute_result"
    }
   ],
   "source": [
    "d1"
   ]
  },
  {
   "cell_type": "markdown",
   "id": "6e633078-c59a-4f54-8adf-ca0ed490b715",
   "metadata": {},
   "source": [
    "Key should be unique in dictionary "
   ]
  },
  {
   "cell_type": "markdown",
   "id": "e99b0356-b270-447d-a456-c05cc0ff4e46",
   "metadata": {},
   "source": [
    "Key can't be a set, list\n",
    "\n",
    "Key can be int, string, tuple"
   ]
  },
  {
   "cell_type": "markdown",
   "id": "f0d42e21-3cb4-4180-abcd-99b6575890a1",
   "metadata": {},
   "source": [
    "Dictionary can be nested"
   ]
  },
  {
   "cell_type": "code",
   "execution_count": 45,
   "id": "5222b939-a484-4f5e-8848-cebdbac5aeef",
   "metadata": {},
   "outputs": [],
   "source": [
    "d2 = {\"name\" : \"vats\"}"
   ]
  },
  {
   "cell_type": "code",
   "execution_count": 50,
   "id": "d50c98be-bd58-4c69-9bb3-086a34939cf1",
   "metadata": {},
   "outputs": [],
   "source": [
    "d2[\"phone\"] = 9818818273"
   ]
  },
  {
   "cell_type": "code",
   "execution_count": 51,
   "id": "68d5b9de-c4c7-4d2a-8515-5d321c3dc330",
   "metadata": {},
   "outputs": [
    {
     "data": {
      "text/plain": [
       "{'name': 'vats', 'phone': 9818818273}"
      ]
     },
     "execution_count": 51,
     "metadata": {},
     "output_type": "execute_result"
    }
   ],
   "source": [
    "d2"
   ]
  },
  {
   "cell_type": "markdown",
   "id": "8feb0c4d-20d3-4be6-a3d7-c18b51b55bd6",
   "metadata": {},
   "source": [
    "Dictionary is mutable"
   ]
  },
  {
   "cell_type": "code",
   "execution_count": 52,
   "id": "52ec2458-3905-426b-b506-1876f0154e95",
   "metadata": {},
   "outputs": [],
   "source": [
    "s = \"vatsalya\""
   ]
  },
  {
   "cell_type": "code",
   "execution_count": 53,
   "id": "a3cf0b91-0d4d-4a85-9479-f29c1c7053a2",
   "metadata": {},
   "outputs": [
    {
     "data": {
      "text/plain": [
       "3"
      ]
     },
     "execution_count": 53,
     "metadata": {},
     "output_type": "execute_result"
    }
   ],
   "source": [
    "s.count('a')"
   ]
  },
  {
   "cell_type": "code",
   "execution_count": 54,
   "id": "29210083-ea5f-445a-94ce-902188484878",
   "metadata": {},
   "outputs": [
    {
     "data": {
      "text/plain": [
       "0"
      ]
     },
     "execution_count": 54,
     "metadata": {},
     "output_type": "execute_result"
    }
   ],
   "source": [
    "s.find('v')"
   ]
  },
  {
   "cell_type": "code",
   "execution_count": 55,
   "id": "6f41a09c-b4ef-4505-be6d-dac113be03c8",
   "metadata": {},
   "outputs": [
    {
     "data": {
      "text/plain": [
       "1"
      ]
     },
     "execution_count": 55,
     "metadata": {},
     "output_type": "execute_result"
    }
   ],
   "source": [
    "s.find('a')"
   ]
  },
  {
   "cell_type": "code",
   "execution_count": 56,
   "id": "8382cc41-5ce8-4433-b1e1-003f1d8b9803",
   "metadata": {},
   "outputs": [
    {
     "data": {
      "text/plain": [
       "2"
      ]
     },
     "execution_count": 56,
     "metadata": {},
     "output_type": "execute_result"
    }
   ],
   "source": [
    "s.index('t')"
   ]
  },
  {
   "cell_type": "code",
   "execution_count": 57,
   "id": "4c92643c-3a01-40e1-8775-0ab4e7b5c917",
   "metadata": {},
   "outputs": [
    {
     "data": {
      "text/plain": [
       "-1"
      ]
     },
     "execution_count": 57,
     "metadata": {},
     "output_type": "execute_result"
    }
   ],
   "source": [
    "s.find('z')"
   ]
  },
  {
   "cell_type": "code",
   "execution_count": 58,
   "id": "7239960a-b299-4582-9d20-6dfb9954c7a8",
   "metadata": {},
   "outputs": [
    {
     "ename": "ValueError",
     "evalue": "substring not found",
     "output_type": "error",
     "traceback": [
      "\u001b[0;31m---------------------------------------------------------------------------\u001b[0m",
      "\u001b[0;31mValueError\u001b[0m                                Traceback (most recent call last)",
      "Cell \u001b[0;32mIn[58], line 1\u001b[0m\n\u001b[0;32m----> 1\u001b[0m \u001b[43ms\u001b[49m\u001b[38;5;241;43m.\u001b[39;49m\u001b[43mindex\u001b[49m\u001b[43m(\u001b[49m\u001b[38;5;124;43m'\u001b[39;49m\u001b[38;5;124;43mz\u001b[39;49m\u001b[38;5;124;43m'\u001b[39;49m\u001b[43m)\u001b[49m\n",
      "\u001b[0;31mValueError\u001b[0m: substring not found"
     ]
    }
   ],
   "source": [
    "s.index('z')"
   ]
  },
  {
   "cell_type": "code",
   "execution_count": 59,
   "id": "8fe2b1db-0682-4a97-b475-536f0fd03fb6",
   "metadata": {},
   "outputs": [
    {
     "data": {
      "text/plain": [
       "'VATSALYA'"
      ]
     },
     "execution_count": 59,
     "metadata": {},
     "output_type": "execute_result"
    }
   ],
   "source": [
    "s.upper()"
   ]
  },
  {
   "cell_type": "code",
   "execution_count": 60,
   "id": "135684e5-2eb3-4da8-88c0-c52354507d2e",
   "metadata": {},
   "outputs": [
    {
     "data": {
      "text/plain": [
       "'vatsalya'"
      ]
     },
     "execution_count": 60,
     "metadata": {},
     "output_type": "execute_result"
    }
   ],
   "source": [
    "s.lower()"
   ]
  },
  {
   "cell_type": "code",
   "execution_count": 61,
   "id": "f125b56d-acf5-4aaf-9ebd-64cb615fe4f7",
   "metadata": {},
   "outputs": [],
   "source": [
    "s1=\"my name is vatsalya mishra\""
   ]
  },
  {
   "cell_type": "code",
   "execution_count": 62,
   "id": "ad5f54d5-8939-45b7-ab52-34cbbddebc8e",
   "metadata": {},
   "outputs": [
    {
     "data": {
      "text/plain": [
       "'My Name Is Vatsalya Mishra'"
      ]
     },
     "execution_count": 62,
     "metadata": {},
     "output_type": "execute_result"
    }
   ],
   "source": [
    "s1.title()"
   ]
  },
  {
   "cell_type": "code",
   "execution_count": 64,
   "id": "0cebda2e-129b-4c18-b754-887122ba5d72",
   "metadata": {},
   "outputs": [
    {
     "data": {
      "text/plain": [
       "['my', 'name', 'is', 'vatsalya', 'mishra']"
      ]
     },
     "execution_count": 64,
     "metadata": {},
     "output_type": "execute_result"
    }
   ],
   "source": [
    "s1.split()"
   ]
  },
  {
   "cell_type": "code",
   "execution_count": 66,
   "id": "b11e4ce8-954f-490a-b493-10c840d4cf37",
   "metadata": {},
   "outputs": [
    {
     "data": {
      "text/plain": [
       "['my n', 'me is v', 'ts', 'ly', ' mishr', '']"
      ]
     },
     "execution_count": 66,
     "metadata": {},
     "output_type": "execute_result"
    }
   ],
   "source": [
    "s1.split('a')"
   ]
  },
  {
   "cell_type": "code",
   "execution_count": 68,
   "id": "49b37ceb-2f85-4fad-9d35-9c5bc09c7dd2",
   "metadata": {},
   "outputs": [
    {
     "data": {
      "text/plain": [
       "'Vatsalya'"
      ]
     },
     "execution_count": 68,
     "metadata": {},
     "output_type": "execute_result"
    }
   ],
   "source": [
    "s.capitalize()"
   ]
  },
  {
   "cell_type": "code",
   "execution_count": 70,
   "id": "0e54fc58-6bfd-4404-9eaf-99a7b5cc4f46",
   "metadata": {},
   "outputs": [
    {
     "data": {
      "text/plain": [
       "'my nxme is vxtsxlyx mishrx'"
      ]
     },
     "execution_count": 70,
     "metadata": {},
     "output_type": "execute_result"
    }
   ],
   "source": [
    "s1.replace('a','x')"
   ]
  },
  {
   "cell_type": "code",
   "execution_count": 71,
   "id": "dbeb533f-5869-4107-b442-cfef872f503e",
   "metadata": {},
   "outputs": [],
   "source": [
    "s2 = \"     vats      \""
   ]
  },
  {
   "cell_type": "code",
   "execution_count": 72,
   "id": "5297fd01-03c9-4236-8993-026e6008435e",
   "metadata": {},
   "outputs": [
    {
     "data": {
      "text/plain": [
       "'     vats'"
      ]
     },
     "execution_count": 72,
     "metadata": {},
     "output_type": "execute_result"
    }
   ],
   "source": [
    "s2.rstrip()"
   ]
  },
  {
   "cell_type": "code",
   "execution_count": 73,
   "id": "3e8a3d84-cba4-40fa-a515-2d8281060f95",
   "metadata": {},
   "outputs": [
    {
     "data": {
      "text/plain": [
       "'vats      '"
      ]
     },
     "execution_count": 73,
     "metadata": {},
     "output_type": "execute_result"
    }
   ],
   "source": [
    "s2.lstrip()"
   ]
  },
  {
   "cell_type": "code",
   "execution_count": 74,
   "id": "f9816552-930b-4b21-a632-a2c72dcfeebe",
   "metadata": {},
   "outputs": [
    {
     "data": {
      "text/plain": [
       "'vats'"
      ]
     },
     "execution_count": 74,
     "metadata": {},
     "output_type": "execute_result"
    }
   ],
   "source": [
    "s2.strip()"
   ]
  },
  {
   "cell_type": "code",
   "execution_count": 75,
   "id": "57247bae-0d45-4b83-a84a-aab9c431a874",
   "metadata": {},
   "outputs": [],
   "source": [
    "s1 = \"vatsalya\""
   ]
  },
  {
   "cell_type": "code",
   "execution_count": 76,
   "id": "c1977213-90f0-4904-aa5e-fa8d56e170e3",
   "metadata": {},
   "outputs": [
    {
     "data": {
      "text/plain": [
       "True"
      ]
     },
     "execution_count": 76,
     "metadata": {},
     "output_type": "execute_result"
    }
   ],
   "source": [
    "s1.isalnum()"
   ]
  },
  {
   "cell_type": "code",
   "execution_count": 77,
   "id": "a2a6b7d9-469d-46eb-9867-fd8113725e57",
   "metadata": {},
   "outputs": [
    {
     "data": {
      "text/plain": [
       "True"
      ]
     },
     "execution_count": 77,
     "metadata": {},
     "output_type": "execute_result"
    }
   ],
   "source": [
    "s1.isalpha()"
   ]
  },
  {
   "cell_type": "code",
   "execution_count": 78,
   "id": "10b8cd42-0984-468d-b3a0-e5d9f22bb37e",
   "metadata": {},
   "outputs": [
    {
     "data": {
      "text/plain": [
       "False"
      ]
     },
     "execution_count": 78,
     "metadata": {},
     "output_type": "execute_result"
    }
   ],
   "source": [
    "s1.isnumeric()"
   ]
  },
  {
   "cell_type": "code",
   "execution_count": 79,
   "id": "ae173cb4-d53d-44e9-86b3-1b17223a54c3",
   "metadata": {},
   "outputs": [
    {
     "data": {
      "text/plain": [
       "True"
      ]
     },
     "execution_count": 79,
     "metadata": {},
     "output_type": "execute_result"
    }
   ],
   "source": [
    "s1.islower()"
   ]
  },
  {
   "cell_type": "code",
   "execution_count": 80,
   "id": "226dd845-b67a-429e-9099-edb66dc04e9f",
   "metadata": {},
   "outputs": [
    {
     "data": {
      "text/plain": [
       "False"
      ]
     },
     "execution_count": 80,
     "metadata": {},
     "output_type": "execute_result"
    }
   ],
   "source": [
    "s1.isupper()"
   ]
  },
  {
   "cell_type": "code",
   "execution_count": 81,
   "id": "ebea6012-35ac-4f42-984c-0f92b70ba6bc",
   "metadata": {},
   "outputs": [],
   "source": [
    "l1 = [1,2,3,4,5]\n",
    "l2 = [6,7,8,9]"
   ]
  },
  {
   "cell_type": "code",
   "execution_count": 82,
   "id": "11f105d7-7f3c-47ef-8b39-7060624095ee",
   "metadata": {},
   "outputs": [],
   "source": [
    "l1.append(l2)"
   ]
  },
  {
   "cell_type": "code",
   "execution_count": 83,
   "id": "6137e6a9-e9cf-4d19-85c3-66662169295d",
   "metadata": {},
   "outputs": [
    {
     "data": {
      "text/plain": [
       "[1, 2, 3, 4, 5, [6, 7, 8, 9]]"
      ]
     },
     "execution_count": 83,
     "metadata": {},
     "output_type": "execute_result"
    }
   ],
   "source": [
    "l1"
   ]
  },
  {
   "cell_type": "code",
   "execution_count": 84,
   "id": "a1e0f9af-4a30-41b9-a119-8dc6bc96851e",
   "metadata": {},
   "outputs": [],
   "source": [
    "l2.insert(1,\"vats\")"
   ]
  },
  {
   "cell_type": "code",
   "execution_count": 85,
   "id": "755b7639-48a4-4442-acc4-d91b034c618d",
   "metadata": {},
   "outputs": [
    {
     "data": {
      "text/plain": [
       "[6, 'vats', 7, 8, 9]"
      ]
     },
     "execution_count": 85,
     "metadata": {},
     "output_type": "execute_result"
    }
   ],
   "source": [
    "l2"
   ]
  },
  {
   "cell_type": "code",
   "execution_count": 87,
   "id": "41cd5877-5640-4097-8ea4-65d56b1fd234",
   "metadata": {},
   "outputs": [],
   "source": [
    "l2.extend([11,22,33])"
   ]
  },
  {
   "cell_type": "code",
   "execution_count": 88,
   "id": "dc1a6cfa-3454-4355-b871-9548b5a3bc90",
   "metadata": {},
   "outputs": [
    {
     "data": {
      "text/plain": [
       "[6, 'vats', 7, 8, 9, 11, 22, 33]"
      ]
     },
     "execution_count": 88,
     "metadata": {},
     "output_type": "execute_result"
    }
   ],
   "source": [
    "l2"
   ]
  },
  {
   "cell_type": "code",
   "execution_count": 90,
   "id": "cd5c5e11-72bb-4ccc-b21f-f04ca94810d3",
   "metadata": {},
   "outputs": [
    {
     "data": {
      "text/plain": [
       "33"
      ]
     },
     "execution_count": 90,
     "metadata": {},
     "output_type": "execute_result"
    }
   ],
   "source": [
    "l2.pop()"
   ]
  },
  {
   "cell_type": "code",
   "execution_count": 91,
   "id": "2e599350-922b-4c45-9920-3a603eee1f11",
   "metadata": {},
   "outputs": [
    {
     "data": {
      "text/plain": [
       "[6, 'vats', 7, 8, 9, 11, 22]"
      ]
     },
     "execution_count": 91,
     "metadata": {},
     "output_type": "execute_result"
    }
   ],
   "source": [
    "l2"
   ]
  },
  {
   "cell_type": "code",
   "execution_count": 92,
   "id": "71632e16-b959-44da-bbdc-5432ac417aba",
   "metadata": {},
   "outputs": [
    {
     "data": {
      "text/plain": [
       "'vats'"
      ]
     },
     "execution_count": 92,
     "metadata": {},
     "output_type": "execute_result"
    }
   ],
   "source": [
    "l2.pop(1)"
   ]
  },
  {
   "cell_type": "code",
   "execution_count": 93,
   "id": "1c8f25f5-a8d2-4013-be62-16224db5dda5",
   "metadata": {},
   "outputs": [
    {
     "data": {
      "text/plain": [
       "[6, 7, 8, 9, 11, 22]"
      ]
     },
     "execution_count": 93,
     "metadata": {},
     "output_type": "execute_result"
    }
   ],
   "source": [
    "l2"
   ]
  },
  {
   "cell_type": "code",
   "execution_count": 94,
   "id": "c1c5b88c-8504-4994-9c1a-c8b53e1b62ca",
   "metadata": {},
   "outputs": [],
   "source": [
    "del l2"
   ]
  },
  {
   "cell_type": "code",
   "execution_count": 95,
   "id": "3b29c4da-2a6e-4e11-875f-d36299f480eb",
   "metadata": {},
   "outputs": [
    {
     "ename": "NameError",
     "evalue": "name 'l2' is not defined",
     "output_type": "error",
     "traceback": [
      "\u001b[0;31m---------------------------------------------------------------------------\u001b[0m",
      "\u001b[0;31mNameError\u001b[0m                                 Traceback (most recent call last)",
      "Cell \u001b[0;32mIn[95], line 1\u001b[0m\n\u001b[0;32m----> 1\u001b[0m \u001b[43ml2\u001b[49m\n",
      "\u001b[0;31mNameError\u001b[0m: name 'l2' is not defined"
     ]
    }
   ],
   "source": [
    "l2"
   ]
  },
  {
   "cell_type": "code",
   "execution_count": 99,
   "id": "0bec2220-8d3b-437b-adca-bbd60bda2b7a",
   "metadata": {},
   "outputs": [],
   "source": [
    "l2 = [1,2,3,4,\"vats\",5,6,7,\"vats\"]"
   ]
  },
  {
   "cell_type": "code",
   "execution_count": 100,
   "id": "f21a859e-5b5b-4e89-a5b4-2deedc9f3802",
   "metadata": {},
   "outputs": [],
   "source": [
    "l2.remove(\"vats\")"
   ]
  },
  {
   "cell_type": "code",
   "execution_count": 101,
   "id": "e442a0f5-c89e-49e4-b247-463aee3646b7",
   "metadata": {},
   "outputs": [
    {
     "data": {
      "text/plain": [
       "[1, 2, 3, 4, 5, 6, 7, 'vats']"
      ]
     },
     "execution_count": 101,
     "metadata": {},
     "output_type": "execute_result"
    }
   ],
   "source": [
    "l2"
   ]
  },
  {
   "cell_type": "code",
   "execution_count": 102,
   "id": "040d0233-35b7-43c4-a663-4ce65322955b",
   "metadata": {},
   "outputs": [],
   "source": [
    "l2.clear()"
   ]
  },
  {
   "cell_type": "code",
   "execution_count": 103,
   "id": "3bd4759f-4668-4fd2-8676-d95d01c6fcc9",
   "metadata": {},
   "outputs": [
    {
     "data": {
      "text/plain": [
       "[]"
      ]
     },
     "execution_count": 103,
     "metadata": {},
     "output_type": "execute_result"
    }
   ],
   "source": [
    "l2"
   ]
  },
  {
   "cell_type": "code",
   "execution_count": 104,
   "id": "e90f89f7-3b5a-4f4e-9636-fc997f4567b6",
   "metadata": {},
   "outputs": [],
   "source": [
    "l2 = [1,2,3,4,\"vats\",5,6,7,\"vats\"]"
   ]
  },
  {
   "cell_type": "code",
   "execution_count": 105,
   "id": "066efa73-3c4b-41a1-9405-abdb13732fa9",
   "metadata": {},
   "outputs": [
    {
     "data": {
      "text/plain": [
       "2"
      ]
     },
     "execution_count": 105,
     "metadata": {},
     "output_type": "execute_result"
    }
   ],
   "source": [
    "l2.count(\"vats\")"
   ]
  },
  {
   "cell_type": "code",
   "execution_count": 106,
   "id": "2cae30de-7e8a-459a-9b86-174f0b1806f7",
   "metadata": {},
   "outputs": [
    {
     "data": {
      "text/plain": [
       "2"
      ]
     },
     "execution_count": 106,
     "metadata": {},
     "output_type": "execute_result"
    }
   ],
   "source": [
    "l2.index(3)"
   ]
  },
  {
   "cell_type": "code",
   "execution_count": 107,
   "id": "548f8499-8c5f-4a1c-9e91-3a4522a47bd2",
   "metadata": {},
   "outputs": [],
   "source": [
    "l2.reverse()"
   ]
  },
  {
   "cell_type": "code",
   "execution_count": 108,
   "id": "cc10fd2b-43e7-43a3-9f60-bdcecdb971db",
   "metadata": {},
   "outputs": [
    {
     "data": {
      "text/plain": [
       "['vats', 7, 6, 5, 'vats', 4, 3, 2, 1]"
      ]
     },
     "execution_count": 108,
     "metadata": {},
     "output_type": "execute_result"
    }
   ],
   "source": [
    "l2"
   ]
  },
  {
   "cell_type": "code",
   "execution_count": 109,
   "id": "78d18a6d-88f6-486c-af73-c1cdf2634163",
   "metadata": {},
   "outputs": [],
   "source": [
    "l3 = [3,41,65,34,6,85,234,25,5,8,5,62,66,889]"
   ]
  },
  {
   "cell_type": "code",
   "execution_count": 110,
   "id": "cb49d2fb-40ef-47ce-a73e-7a8b4d941818",
   "metadata": {},
   "outputs": [],
   "source": [
    "l3.sort()"
   ]
  },
  {
   "cell_type": "code",
   "execution_count": 111,
   "id": "372a21b8-390c-4a90-ad7d-60274a75e5ff",
   "metadata": {},
   "outputs": [
    {
     "data": {
      "text/plain": [
       "[3, 5, 5, 6, 8, 25, 34, 41, 62, 65, 66, 85, 234, 889]"
      ]
     },
     "execution_count": 111,
     "metadata": {},
     "output_type": "execute_result"
    }
   ],
   "source": [
    "l3"
   ]
  },
  {
   "cell_type": "code",
   "execution_count": 112,
   "id": "e9c58404-dcfe-4800-9acb-9c3474ceae95",
   "metadata": {},
   "outputs": [],
   "source": [
    "l3.sort(reverse=True)"
   ]
  },
  {
   "cell_type": "code",
   "execution_count": 113,
   "id": "bbaf9b00-cd03-4902-a685-2392a8a09baa",
   "metadata": {},
   "outputs": [
    {
     "data": {
      "text/plain": [
       "[889, 234, 85, 66, 65, 62, 41, 34, 25, 8, 6, 5, 5, 3]"
      ]
     },
     "execution_count": 113,
     "metadata": {},
     "output_type": "execute_result"
    }
   ],
   "source": [
    "l3"
   ]
  },
  {
   "cell_type": "code",
   "execution_count": 114,
   "id": "890de9a8-1cb0-4d46-81df-c52b5666502b",
   "metadata": {},
   "outputs": [],
   "source": [
    "l0 = [2,3,4,5]"
   ]
  },
  {
   "cell_type": "code",
   "execution_count": 115,
   "id": "d6d61c28-5af3-4231-91ac-e9f6c6667848",
   "metadata": {},
   "outputs": [],
   "source": [
    "l1 = l0"
   ]
  },
  {
   "cell_type": "code",
   "execution_count": 116,
   "id": "8e9453da-5fba-40b2-94f6-1b489ca0a745",
   "metadata": {},
   "outputs": [
    {
     "data": {
      "text/plain": [
       "[2, 3, 4, 5]"
      ]
     },
     "execution_count": 116,
     "metadata": {},
     "output_type": "execute_result"
    }
   ],
   "source": [
    "l1"
   ]
  },
  {
   "cell_type": "code",
   "execution_count": 117,
   "id": "d48f480d-14e5-4474-9b92-1bf237c64aea",
   "metadata": {},
   "outputs": [
    {
     "data": {
      "text/plain": [
       "[2, 3, 4, 5]"
      ]
     },
     "execution_count": 117,
     "metadata": {},
     "output_type": "execute_result"
    }
   ],
   "source": [
    "l0"
   ]
  },
  {
   "cell_type": "code",
   "execution_count": 118,
   "id": "2c086083-acfa-434c-94ea-538f84355b92",
   "metadata": {},
   "outputs": [],
   "source": [
    "l0[0] = 200"
   ]
  },
  {
   "cell_type": "code",
   "execution_count": 119,
   "id": "0cf097b6-d3cf-4e6b-9d5d-3c48dfa8e4af",
   "metadata": {},
   "outputs": [
    {
     "data": {
      "text/plain": [
       "[200, 3, 4, 5]"
      ]
     },
     "execution_count": 119,
     "metadata": {},
     "output_type": "execute_result"
    }
   ],
   "source": [
    "l0"
   ]
  },
  {
   "cell_type": "code",
   "execution_count": 120,
   "id": "34e007fb-cccc-4eeb-8509-501454484ccc",
   "metadata": {},
   "outputs": [
    {
     "data": {
      "text/plain": [
       "[200, 3, 4, 5]"
      ]
     },
     "execution_count": 120,
     "metadata": {},
     "output_type": "execute_result"
    }
   ],
   "source": [
    "l1"
   ]
  },
  {
   "cell_type": "code",
   "execution_count": 121,
   "id": "e68ef2cd-887d-41a8-b815-ffb831e26a88",
   "metadata": {},
   "outputs": [],
   "source": [
    "l2 = l0.copy()"
   ]
  },
  {
   "cell_type": "code",
   "execution_count": 122,
   "id": "9008c74d-79f3-4a80-b885-f16942c0fa3b",
   "metadata": {},
   "outputs": [
    {
     "data": {
      "text/plain": [
       "[200, 3, 4, 5]"
      ]
     },
     "execution_count": 122,
     "metadata": {},
     "output_type": "execute_result"
    }
   ],
   "source": [
    "l2"
   ]
  },
  {
   "cell_type": "code",
   "execution_count": 123,
   "id": "cfb12aa8-f95b-4a52-8840-ca1ba8da6481",
   "metadata": {},
   "outputs": [],
   "source": [
    "l0[1] = 300"
   ]
  },
  {
   "cell_type": "code",
   "execution_count": 124,
   "id": "f4167d02-6292-4b61-bcd7-bcb986920e66",
   "metadata": {},
   "outputs": [
    {
     "data": {
      "text/plain": [
       "[200, 300, 4, 5]"
      ]
     },
     "execution_count": 124,
     "metadata": {},
     "output_type": "execute_result"
    }
   ],
   "source": [
    "l0"
   ]
  },
  {
   "cell_type": "code",
   "execution_count": 125,
   "id": "015ec953-7ed2-4515-afa4-9d366227642c",
   "metadata": {},
   "outputs": [
    {
     "data": {
      "text/plain": [
       "[200, 3, 4, 5]"
      ]
     },
     "execution_count": 125,
     "metadata": {},
     "output_type": "execute_result"
    }
   ],
   "source": [
    "l2"
   ]
  },
  {
   "cell_type": "code",
   "execution_count": 126,
   "id": "b1a97a69-a3e0-4111-afca-5823225cd309",
   "metadata": {},
   "outputs": [
    {
     "data": {
      "text/plain": [
       "[200, 300, 4, 5]"
      ]
     },
     "execution_count": 126,
     "metadata": {},
     "output_type": "execute_result"
    }
   ],
   "source": [
    "l1"
   ]
  },
  {
   "cell_type": "markdown",
   "id": "6ac4845e-d6ce-4a28-8cc7-a8108ab2c7d8",
   "metadata": {},
   "source": [
    "= is shallow copy\n",
    "\n",
    "'copy' is deep copy"
   ]
  },
  {
   "cell_type": "code",
   "execution_count": 127,
   "id": "a7fadd7f-b854-47dc-af1c-67da09921759",
   "metadata": {},
   "outputs": [
    {
     "data": {
      "text/plain": [
       "(1, 2, 3, 4, 'vatsalya', 75.32, True)"
      ]
     },
     "execution_count": 127,
     "metadata": {},
     "output_type": "execute_result"
    }
   ],
   "source": [
    "t"
   ]
  },
  {
   "cell_type": "code",
   "execution_count": 128,
   "id": "56b1d781-2868-49f8-bb81-6e1dff02305e",
   "metadata": {},
   "outputs": [
    {
     "data": {
      "text/plain": [
       "1"
      ]
     },
     "execution_count": 128,
     "metadata": {},
     "output_type": "execute_result"
    }
   ],
   "source": [
    "t.count(2)"
   ]
  },
  {
   "cell_type": "code",
   "execution_count": 129,
   "id": "8e287149-8dfe-4bd8-8008-63833e166055",
   "metadata": {},
   "outputs": [
    {
     "data": {
      "text/plain": [
       "3"
      ]
     },
     "execution_count": 129,
     "metadata": {},
     "output_type": "execute_result"
    }
   ],
   "source": [
    "t.index(4)"
   ]
  },
  {
   "cell_type": "code",
   "execution_count": 130,
   "id": "772199de-1f57-4a74-90f5-105d7154e3f9",
   "metadata": {},
   "outputs": [],
   "source": [
    "s = {3,4,54,6,6,43,3,3,3,5,6}"
   ]
  },
  {
   "cell_type": "code",
   "execution_count": 131,
   "id": "c9f760c5-a2d1-4ae6-9048-2b43a6264fef",
   "metadata": {},
   "outputs": [
    {
     "data": {
      "text/plain": [
       "{3, 4, 5, 6, 43, 54}"
      ]
     },
     "execution_count": 131,
     "metadata": {},
     "output_type": "execute_result"
    }
   ],
   "source": [
    "s"
   ]
  },
  {
   "cell_type": "code",
   "execution_count": 132,
   "id": "11211950-9349-4810-9ffc-7d2a423a4618",
   "metadata": {},
   "outputs": [],
   "source": [
    "s.add(234)"
   ]
  },
  {
   "cell_type": "code",
   "execution_count": 133,
   "id": "13d15711-c4f7-4ef8-a822-86a5757728f3",
   "metadata": {},
   "outputs": [
    {
     "data": {
      "text/plain": [
       "{3, 4, 5, 6, 43, 54, 234}"
      ]
     },
     "execution_count": 133,
     "metadata": {},
     "output_type": "execute_result"
    }
   ],
   "source": [
    "s"
   ]
  },
  {
   "cell_type": "code",
   "execution_count": 134,
   "id": "902ae9aa-f81b-46fa-a557-91b9511b9761",
   "metadata": {},
   "outputs": [],
   "source": [
    "s.add(4)"
   ]
  },
  {
   "cell_type": "code",
   "execution_count": 135,
   "id": "04ba1976-0aa6-49ac-ae3f-172239f79c27",
   "metadata": {},
   "outputs": [
    {
     "data": {
      "text/plain": [
       "{3, 4, 5, 6, 43, 54, 234}"
      ]
     },
     "execution_count": 135,
     "metadata": {},
     "output_type": "execute_result"
    }
   ],
   "source": [
    "s"
   ]
  },
  {
   "cell_type": "code",
   "execution_count": 136,
   "id": "9ba5a603-e61f-4df2-b219-361807ace67f",
   "metadata": {},
   "outputs": [],
   "source": [
    "s.discard(3)"
   ]
  },
  {
   "cell_type": "code",
   "execution_count": 137,
   "id": "8c086d7d-03e3-481f-bf4d-fcf1c87d59bd",
   "metadata": {},
   "outputs": [
    {
     "data": {
      "text/plain": [
       "{4, 5, 6, 43, 54, 234}"
      ]
     },
     "execution_count": 137,
     "metadata": {},
     "output_type": "execute_result"
    }
   ],
   "source": [
    "s"
   ]
  },
  {
   "cell_type": "code",
   "execution_count": 138,
   "id": "f160771f-255c-4324-949b-530e7aa1120e",
   "metadata": {},
   "outputs": [
    {
     "data": {
      "text/plain": [
       "4"
      ]
     },
     "execution_count": 138,
     "metadata": {},
     "output_type": "execute_result"
    }
   ],
   "source": [
    "s.pop()"
   ]
  },
  {
   "cell_type": "code",
   "execution_count": 139,
   "id": "14c3cf8c-e31c-4cd6-a220-1f0b8850f13d",
   "metadata": {},
   "outputs": [],
   "source": [
    "s.remove(43)"
   ]
  },
  {
   "cell_type": "code",
   "execution_count": 140,
   "id": "2c35f292-9e8e-4cfd-859f-d65e6625bc4a",
   "metadata": {},
   "outputs": [
    {
     "data": {
      "text/plain": [
       "{5, 6, 54, 234}"
      ]
     },
     "execution_count": 140,
     "metadata": {},
     "output_type": "execute_result"
    }
   ],
   "source": [
    "s"
   ]
  },
  {
   "cell_type": "code",
   "execution_count": 142,
   "id": "5d58969e-502d-4875-8172-3e4fac14821a",
   "metadata": {},
   "outputs": [
    {
     "data": {
      "text/plain": [
       "{'name': 'vatsalya', 'age': 21, 'subjects': ['english', 'maths', 'science']}"
      ]
     },
     "execution_count": 142,
     "metadata": {},
     "output_type": "execute_result"
    }
   ],
   "source": [
    "d"
   ]
  },
  {
   "cell_type": "code",
   "execution_count": 144,
   "id": "0b2b5e22-a57c-47ab-9309-8c3ca26ce63c",
   "metadata": {},
   "outputs": [
    {
     "data": {
      "text/plain": [
       "dict_keys(['name', 'age', 'subjects'])"
      ]
     },
     "execution_count": 144,
     "metadata": {},
     "output_type": "execute_result"
    }
   ],
   "source": [
    "d.keys()"
   ]
  },
  {
   "cell_type": "code",
   "execution_count": 145,
   "id": "44b0e353-d558-4de0-8c68-cee48b5f0917",
   "metadata": {},
   "outputs": [
    {
     "data": {
      "text/plain": [
       "dict_values(['vatsalya', 21, ['english', 'maths', 'science']])"
      ]
     },
     "execution_count": 145,
     "metadata": {},
     "output_type": "execute_result"
    }
   ],
   "source": [
    "d.values()"
   ]
  },
  {
   "cell_type": "code",
   "execution_count": 147,
   "id": "774a8f79-1335-4a0d-9a6c-ec9420ef4e64",
   "metadata": {},
   "outputs": [
    {
     "data": {
      "text/plain": [
       "[('name', 'vatsalya'),\n",
       " ('age', 21),\n",
       " ('subjects', ['english', 'maths', 'science'])]"
      ]
     },
     "execution_count": 147,
     "metadata": {},
     "output_type": "execute_result"
    }
   ],
   "source": [
    "list(d.items())"
   ]
  },
  {
   "cell_type": "code",
   "execution_count": 148,
   "id": "801ed644-b236-4480-8670-867b3f2bb2ee",
   "metadata": {},
   "outputs": [
    {
     "data": {
      "text/plain": [
       "['english', 'maths', 'science']"
      ]
     },
     "execution_count": 148,
     "metadata": {},
     "output_type": "execute_result"
    }
   ],
   "source": [
    "d.get(\"subjects\")"
   ]
  },
  {
   "cell_type": "code",
   "execution_count": 153,
   "id": "6d85454b-117f-4a5d-b8c0-3cd5aa37ade7",
   "metadata": {},
   "outputs": [
    {
     "data": {
      "text/plain": [
       "set()"
      ]
     },
     "execution_count": 153,
     "metadata": {},
     "output_type": "execute_result"
    }
   ],
   "source": [
    "set()"
   ]
  },
  {
   "cell_type": "code",
   "execution_count": 150,
   "id": "754a8646-5aad-4a7d-aac1-1345cee4b6a7",
   "metadata": {},
   "outputs": [
    {
     "data": {
      "text/plain": [
       "set()"
      ]
     },
     "execution_count": 150,
     "metadata": {},
     "output_type": "execute_result"
    }
   ],
   "source": [
    "s"
   ]
  },
  {
   "cell_type": "code",
   "execution_count": 154,
   "id": "9c3fca9c-461e-42a2-8bb8-6f2588dcfc17",
   "metadata": {},
   "outputs": [
    {
     "data": {
      "text/plain": [
       "tuple"
      ]
     },
     "execution_count": 154,
     "metadata": {},
     "output_type": "execute_result"
    }
   ],
   "source": [
    "type((1,2,3))"
   ]
  },
  {
   "cell_type": "code",
   "execution_count": 156,
   "id": "cb6163b8-2dbd-46f0-9f9a-dae94ec54053",
   "metadata": {},
   "outputs": [
    {
     "data": {
      "text/plain": [
       "{1: 2, 2: 4}"
      ]
     },
     "execution_count": 156,
     "metadata": {},
     "output_type": "execute_result"
    }
   ],
   "source": [
    "{1:2,2:4}"
   ]
  },
  {
   "cell_type": "code",
   "execution_count": 158,
   "id": "1eda3972-d716-4a04-906e-3b9e775f2d2a",
   "metadata": {},
   "outputs": [
    {
     "data": {
      "text/plain": [
       "{1, 2, 3}"
      ]
     },
     "execution_count": 158,
     "metadata": {},
     "output_type": "execute_result"
    }
   ],
   "source": [
    "set([1,2,3])"
   ]
  },
  {
   "cell_type": "code",
   "execution_count": 161,
   "id": "b6d2c30d-ff47-4b97-b270-f8eb99a04b55",
   "metadata": {},
   "outputs": [
    {
     "data": {
      "text/plain": [
       "(1,)"
      ]
     },
     "execution_count": 161,
     "metadata": {},
     "output_type": "execute_result"
    }
   ],
   "source": [
    "(1,)"
   ]
  },
  {
   "cell_type": "code",
   "execution_count": 162,
   "id": "7376ec89-1fef-47ef-904d-baabeb25a0f8",
   "metadata": {},
   "outputs": [],
   "source": [
    "l = list()"
   ]
  },
  {
   "cell_type": "code",
   "execution_count": 163,
   "id": "745fb548-cdcf-4756-bdc9-9504eed3256a",
   "metadata": {},
   "outputs": [
    {
     "data": {
      "text/plain": [
       "[]"
      ]
     },
     "execution_count": 163,
     "metadata": {},
     "output_type": "execute_result"
    }
   ],
   "source": [
    "l"
   ]
  },
  {
   "cell_type": "code",
   "execution_count": 164,
   "id": "c805ea34-edd3-4f02-898b-2698c582af5e",
   "metadata": {},
   "outputs": [
    {
     "data": {
      "text/plain": [
       "[2]"
      ]
     },
     "execution_count": 164,
     "metadata": {},
     "output_type": "execute_result"
    }
   ],
   "source": [
    "l.append(2)\n",
    "l"
   ]
  },
  {
   "cell_type": "code",
   "execution_count": 167,
   "id": "884d0a9a-8f76-4d2a-bcbf-f1bb10569d82",
   "metadata": {},
   "outputs": [],
   "source": [
    "l = list[1,2,3,4,5]"
   ]
  },
  {
   "cell_type": "code",
   "execution_count": 168,
   "id": "7cdea167-c02f-4808-8c16-b72775f615a9",
   "metadata": {},
   "outputs": [
    {
     "data": {
      "text/plain": [
       "list[1, 2, 3, 4, 5]"
      ]
     },
     "execution_count": 168,
     "metadata": {},
     "output_type": "execute_result"
    }
   ],
   "source": [
    "l"
   ]
  },
  {
   "cell_type": "code",
   "execution_count": 169,
   "id": "f9ce53c6-ca7e-4f8c-8054-9e97d0c79cbd",
   "metadata": {},
   "outputs": [
    {
     "data": {
      "text/plain": [
       "{'name': 'vatsalya', 'age': 21, 'subjects': ['english', 'maths', 'science']}"
      ]
     },
     "execution_count": 169,
     "metadata": {},
     "output_type": "execute_result"
    }
   ],
   "source": [
    "d"
   ]
  },
  {
   "cell_type": "code",
   "execution_count": 172,
   "id": "7cf80fe8-7385-4dae-a96d-c4c69e514166",
   "metadata": {},
   "outputs": [
    {
     "ename": "SyntaxError",
     "evalue": "invalid syntax (1525409117.py, line 1)",
     "output_type": "error",
     "traceback": [
      "\u001b[0;36m  Cell \u001b[0;32mIn[172], line 1\u001b[0;36m\u001b[0m\n\u001b[0;31m    d.insert(\"num\" : 1)\u001b[0m\n\u001b[0m                   ^\u001b[0m\n\u001b[0;31mSyntaxError\u001b[0m\u001b[0;31m:\u001b[0m invalid syntax\n"
     ]
    }
   ],
   "source": [
    "d.insert(\"num\" : 1)"
   ]
  },
  {
   "cell_type": "code",
   "execution_count": 173,
   "id": "3f88253d-54ae-4c91-849b-d8ce9386a939",
   "metadata": {},
   "outputs": [
    {
     "data": {
      "text/plain": [
       "(1, 2, 3, 4, 'vatsalya', 75.32, True)"
      ]
     },
     "execution_count": 173,
     "metadata": {},
     "output_type": "execute_result"
    }
   ],
   "source": [
    "t"
   ]
  },
  {
   "cell_type": "code",
   "execution_count": 176,
   "id": "4a78ba12-27f6-4437-8b47-db6528706873",
   "metadata": {},
   "outputs": [
    {
     "ename": "AttributeError",
     "evalue": "'tuple' object has no attribute 'discard'",
     "output_type": "error",
     "traceback": [
      "\u001b[0;31m---------------------------------------------------------------------------\u001b[0m",
      "\u001b[0;31mAttributeError\u001b[0m                            Traceback (most recent call last)",
      "Cell \u001b[0;32mIn[176], line 1\u001b[0m\n\u001b[0;32m----> 1\u001b[0m \u001b[43mt\u001b[49m\u001b[38;5;241;43m.\u001b[39;49m\u001b[43mdiscard\u001b[49m(\u001b[38;5;241m1\u001b[39m)\n",
      "\u001b[0;31mAttributeError\u001b[0m: 'tuple' object has no attribute 'discard'"
     ]
    }
   ],
   "source": [
    "t.discard(1)"
   ]
  },
  {
   "cell_type": "code",
   "execution_count": 177,
   "id": "4e3d71d5-cca2-4d02-ae88-d7c43fcfe65c",
   "metadata": {},
   "outputs": [
    {
     "data": {
      "text/plain": [
       "set()"
      ]
     },
     "execution_count": 177,
     "metadata": {},
     "output_type": "execute_result"
    }
   ],
   "source": [
    "s"
   ]
  },
  {
   "cell_type": "code",
   "execution_count": 178,
   "id": "980634ea-9dbd-45b1-b660-d9d280121eb7",
   "metadata": {},
   "outputs": [],
   "source": [
    "s = {1,2,3,4}"
   ]
  },
  {
   "cell_type": "code",
   "execution_count": 185,
   "id": "1411f632-dada-4ca7-bba2-28bb078fa434",
   "metadata": {},
   "outputs": [
    {
     "ename": "AttributeError",
     "evalue": "'set' object has no attribute 'insert'",
     "output_type": "error",
     "traceback": [
      "\u001b[0;31m---------------------------------------------------------------------------\u001b[0m",
      "\u001b[0;31mAttributeError\u001b[0m                            Traceback (most recent call last)",
      "Cell \u001b[0;32mIn[185], line 1\u001b[0m\n\u001b[0;32m----> 1\u001b[0m \u001b[43ms\u001b[49m\u001b[38;5;241;43m.\u001b[39;49m\u001b[43minsert\u001b[49m(\u001b[38;5;241m3\u001b[39m,\u001b[38;5;241m4\u001b[39m)\n",
      "\u001b[0;31mAttributeError\u001b[0m: 'set' object has no attribute 'insert'"
     ]
    }
   ],
   "source": [
    "s.insert(3,4)"
   ]
  },
  {
   "cell_type": "code",
   "execution_count": null,
   "id": "560913a0-bf1d-4189-8844-6146f54d1c4d",
   "metadata": {},
   "outputs": [],
   "source": []
  }
 ],
 "metadata": {
  "kernelspec": {
   "display_name": "Python 3 (ipykernel)",
   "language": "python",
   "name": "python3"
  },
  "language_info": {
   "codemirror_mode": {
    "name": "ipython",
    "version": 3
   },
   "file_extension": ".py",
   "mimetype": "text/x-python",
   "name": "python",
   "nbconvert_exporter": "python",
   "pygments_lexer": "ipython3",
   "version": "3.10.8"
  }
 },
 "nbformat": 4,
 "nbformat_minor": 5
}
