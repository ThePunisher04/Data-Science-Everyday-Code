{
 "cells": [
  {
   "cell_type": "code",
   "execution_count": 1,
   "id": "499b5d69-d160-49ad-93ff-cb7bc436f468",
   "metadata": {},
   "outputs": [
    {
     "data": {
      "text/plain": [
       "3"
      ]
     },
     "execution_count": 1,
     "metadata": {},
     "output_type": "execute_result"
    }
   ],
   "source": [
    "1+2"
   ]
  },
  {
   "cell_type": "code",
   "execution_count": 2,
   "id": "f0ad658a-8c9b-4ca6-9258-d46195dfef63",
   "metadata": {},
   "outputs": [
    {
     "data": {
      "text/plain": [
       "10"
      ]
     },
     "execution_count": 2,
     "metadata": {},
     "output_type": "execute_result"
    }
   ],
   "source": [
    "a=10\n",
    "a"
   ]
  },
  {
   "cell_type": "code",
   "execution_count": 3,
   "id": "d2885e8d-3b00-4229-876f-96c37ace5388",
   "metadata": {},
   "outputs": [
    {
     "data": {
      "text/plain": [
       "int"
      ]
     },
     "execution_count": 3,
     "metadata": {},
     "output_type": "execute_result"
    }
   ],
   "source": [
    "type(a)"
   ]
  },
  {
   "cell_type": "code",
   "execution_count": 4,
   "id": "b29924d6-d229-446e-b37a-1e8db8455a24",
   "metadata": {},
   "outputs": [
    {
     "data": {
      "text/plain": [
       "str"
      ]
     },
     "execution_count": 4,
     "metadata": {},
     "output_type": "execute_result"
    }
   ],
   "source": [
    "s=\"vatsalya\"\n",
    "type(s)"
   ]
  },
  {
   "cell_type": "code",
   "execution_count": 5,
   "id": "83f70a59-b723-450e-9a07-2e744cfc8e81",
   "metadata": {},
   "outputs": [
    {
     "data": {
      "text/plain": [
       "'vatsalya'"
      ]
     },
     "execution_count": 5,
     "metadata": {},
     "output_type": "execute_result"
    }
   ],
   "source": [
    "s"
   ]
  },
  {
   "cell_type": "markdown",
   "id": "ce56d58e-295e-4082-a1f1-179f24a90580",
   "metadata": {},
   "source": [
    "Strings can be either enclosed in double quotes or single quotes."
   ]
  },
  {
   "cell_type": "code",
   "execution_count": 6,
   "id": "ee17d357-62e8-45ad-98b3-871a0f4b8c08",
   "metadata": {},
   "outputs": [
    {
     "data": {
      "text/plain": [
       "float"
      ]
     },
     "execution_count": 6,
     "metadata": {},
     "output_type": "execute_result"
    }
   ],
   "source": [
    "f=45.21\n",
    "type(f)"
   ]
  },
  {
   "cell_type": "code",
   "execution_count": 7,
   "id": "61b404f7-aada-404e-b9f6-b488ecfc9147",
   "metadata": {},
   "outputs": [
    {
     "data": {
      "text/plain": [
       "complex"
      ]
     },
     "execution_count": 7,
     "metadata": {},
     "output_type": "execute_result"
    }
   ],
   "source": [
    "c=5+6j\n",
    "type(c)"
   ]
  },
  {
   "cell_type": "code",
   "execution_count": 8,
   "id": "91aaaf8f-5df5-456e-9022-2d19ca9c4515",
   "metadata": {},
   "outputs": [
    {
     "data": {
      "text/plain": [
       "(5+6j)"
      ]
     },
     "execution_count": 8,
     "metadata": {},
     "output_type": "execute_result"
    }
   ],
   "source": [
    "c"
   ]
  },
  {
   "cell_type": "code",
   "execution_count": 9,
   "id": "7c6a98c6-129f-4244-806d-2083350a9953",
   "metadata": {},
   "outputs": [
    {
     "data": {
      "text/plain": [
       "5.0"
      ]
     },
     "execution_count": 9,
     "metadata": {},
     "output_type": "execute_result"
    }
   ],
   "source": [
    "c.real"
   ]
  },
  {
   "cell_type": "code",
   "execution_count": 10,
   "id": "9b12fdb4-05fe-4c8f-a236-cfc55e58ca74",
   "metadata": {},
   "outputs": [
    {
     "data": {
      "text/plain": [
       "6.0"
      ]
     },
     "execution_count": 10,
     "metadata": {},
     "output_type": "execute_result"
    }
   ],
   "source": [
    "c.imag"
   ]
  },
  {
   "cell_type": "code",
   "execution_count": 11,
   "id": "1f73235e-29c6-46c4-b235-7f6cc040343f",
   "metadata": {},
   "outputs": [
    {
     "data": {
      "text/plain": [
       "bool"
      ]
     },
     "execution_count": 11,
     "metadata": {},
     "output_type": "execute_result"
    }
   ],
   "source": [
    "b=True\n",
    "type(b)"
   ]
  },
  {
   "cell_type": "code",
   "execution_count": 12,
   "id": "23966df3-f539-4d46-8ae2-47d5b1d260a5",
   "metadata": {},
   "outputs": [
    {
     "data": {
      "text/plain": [
       "79"
      ]
     },
     "execution_count": 12,
     "metadata": {},
     "output_type": "execute_result"
    }
   ],
   "source": [
    "a1=45\n",
    "a2=34\n",
    "a1+a2"
   ]
  },
  {
   "cell_type": "code",
   "execution_count": 13,
   "id": "ab01aea1-0606-4928-aa35-a727ed2e5c12",
   "metadata": {},
   "outputs": [
    {
     "data": {
      "text/plain": [
       "1530"
      ]
     },
     "execution_count": 13,
     "metadata": {},
     "output_type": "execute_result"
    }
   ],
   "source": [
    "a1*a2"
   ]
  },
  {
   "cell_type": "code",
   "execution_count": 14,
   "id": "ebf904c2-c898-48ae-8b4c-dfd449228e51",
   "metadata": {},
   "outputs": [
    {
     "data": {
      "text/plain": [
       "1.3235294117647058"
      ]
     },
     "execution_count": 14,
     "metadata": {},
     "output_type": "execute_result"
    }
   ],
   "source": [
    "a1/a2"
   ]
  },
  {
   "cell_type": "code",
   "execution_count": 15,
   "id": "021d2b47-333a-43ad-bd7e-083b50d49db7",
   "metadata": {},
   "outputs": [
    {
     "data": {
      "text/plain": [
       "11"
      ]
     },
     "execution_count": 15,
     "metadata": {},
     "output_type": "execute_result"
    }
   ],
   "source": [
    "a1-a2"
   ]
  },
  {
   "cell_type": "code",
   "execution_count": 16,
   "id": "7e4ccced-2cad-432b-9418-30d48aa8aaf9",
   "metadata": {},
   "outputs": [],
   "source": [
    "a1 , a2 = 35, 45"
   ]
  },
  {
   "cell_type": "code",
   "execution_count": 18,
   "id": "32e987b6-ffae-413e-bc52-21dcee6bad36",
   "metadata": {},
   "outputs": [
    {
     "data": {
      "text/plain": [
       "35"
      ]
     },
     "execution_count": 18,
     "metadata": {},
     "output_type": "execute_result"
    }
   ],
   "source": [
    "a1"
   ]
  },
  {
   "cell_type": "code",
   "execution_count": 19,
   "id": "8d0fc138-28d1-4836-b562-653eed263968",
   "metadata": {},
   "outputs": [
    {
     "data": {
      "text/plain": [
       "45"
      ]
     },
     "execution_count": 19,
     "metadata": {},
     "output_type": "execute_result"
    }
   ],
   "source": [
    "a2"
   ]
  },
  {
   "cell_type": "code",
   "execution_count": 20,
   "id": "a465e780-2f3d-4b21-95a3-57090f4f7ca8",
   "metadata": {},
   "outputs": [],
   "source": [
    "a,b,c,d = 509, \"vatsalya\", 99.45, True"
   ]
  },
  {
   "cell_type": "code",
   "execution_count": 21,
   "id": "1ef4b6dc-b060-4454-a074-fa2929dd508a",
   "metadata": {},
   "outputs": [
    {
     "data": {
      "text/plain": [
       "509"
      ]
     },
     "execution_count": 21,
     "metadata": {},
     "output_type": "execute_result"
    }
   ],
   "source": [
    "a"
   ]
  },
  {
   "cell_type": "code",
   "execution_count": 22,
   "id": "e489d8a0-eebb-4b83-9c3e-2b346547cc6b",
   "metadata": {},
   "outputs": [
    {
     "data": {
      "text/plain": [
       "'vatsalya'"
      ]
     },
     "execution_count": 22,
     "metadata": {},
     "output_type": "execute_result"
    }
   ],
   "source": [
    "b"
   ]
  },
  {
   "cell_type": "code",
   "execution_count": 23,
   "id": "6ecb451e-6bb8-4d18-924d-61fa21c33e68",
   "metadata": {},
   "outputs": [
    {
     "data": {
      "text/plain": [
       "99.45"
      ]
     },
     "execution_count": 23,
     "metadata": {},
     "output_type": "execute_result"
    }
   ],
   "source": [
    "c"
   ]
  },
  {
   "cell_type": "code",
   "execution_count": 24,
   "id": "3e6ebcb5-fcc2-4c42-b979-634c32f31fb3",
   "metadata": {},
   "outputs": [
    {
     "data": {
      "text/plain": [
       "True"
      ]
     },
     "execution_count": 24,
     "metadata": {},
     "output_type": "execute_result"
    }
   ],
   "source": [
    "d"
   ]
  },
  {
   "cell_type": "markdown",
   "id": "3cb7183f-5983-4f31-924d-10033925ce15",
   "metadata": {},
   "source": [
    "True means 1 and False means 0"
   ]
  },
  {
   "cell_type": "code",
   "execution_count": 25,
   "id": "25c41041-b051-474a-9a59-1035ef95d803",
   "metadata": {},
   "outputs": [],
   "source": [
    "b1=True\n",
    "b2=False"
   ]
  },
  {
   "cell_type": "code",
   "execution_count": 26,
   "id": "176eadc8-34c2-4c8e-a9ae-a86720f3723d",
   "metadata": {},
   "outputs": [
    {
     "data": {
      "text/plain": [
       "1"
      ]
     },
     "execution_count": 26,
     "metadata": {},
     "output_type": "execute_result"
    }
   ],
   "source": [
    "b1-b2"
   ]
  },
  {
   "cell_type": "code",
   "execution_count": 27,
   "id": "3bd2dba4-7786-4ee9-99d9-e0bbcefab4dc",
   "metadata": {},
   "outputs": [],
   "source": [
    "#This is a single line comment"
   ]
  },
  {
   "cell_type": "code",
   "execution_count": 28,
   "id": "af9c06e9-feae-4198-9be8-6c1d2684fdcf",
   "metadata": {},
   "outputs": [
    {
     "data": {
      "text/plain": [
       "'This is a \\nmulti line comment'"
      ]
     },
     "execution_count": 28,
     "metadata": {},
     "output_type": "execute_result"
    }
   ],
   "source": [
    "'''This is a \n",
    "multi line comment'''"
   ]
  },
  {
   "cell_type": "code",
   "execution_count": 29,
   "id": "9b5878fd-096a-48e3-a8bf-c16569f2c70e",
   "metadata": {},
   "outputs": [],
   "source": [
    "s1 = \"vatsalya\"\n",
    "a = 10"
   ]
  },
  {
   "cell_type": "code",
   "execution_count": 30,
   "id": "e00e4d2a-4f12-4074-a4ac-521202d6a4de",
   "metadata": {},
   "outputs": [
    {
     "ename": "TypeError",
     "evalue": "can only concatenate str (not \"int\") to str",
     "output_type": "error",
     "traceback": [
      "\u001b[0;31m---------------------------------------------------------------------------\u001b[0m",
      "\u001b[0;31mTypeError\u001b[0m                                 Traceback (most recent call last)",
      "Cell \u001b[0;32mIn[30], line 1\u001b[0m\n\u001b[0;32m----> 1\u001b[0m \u001b[43ms1\u001b[49m\u001b[38;5;241;43m+\u001b[39;49m\u001b[43ma\u001b[49m\n",
      "\u001b[0;31mTypeError\u001b[0m: can only concatenate str (not \"int\") to str"
     ]
    }
   ],
   "source": [
    "s1+a"
   ]
  },
  {
   "cell_type": "code",
   "execution_count": 31,
   "id": "e39d38dd-65a6-4b3d-b1c8-0961e47dd5ee",
   "metadata": {},
   "outputs": [
    {
     "data": {
      "text/plain": [
       "'alyavats'"
      ]
     },
     "execution_count": 31,
     "metadata": {},
     "output_type": "execute_result"
    }
   ],
   "source": [
    "\"alya\" + \"vats\""
   ]
  },
  {
   "cell_type": "code",
   "execution_count": 32,
   "id": "b201deeb-08d7-4477-9783-956bf1639961",
   "metadata": {},
   "outputs": [
    {
     "data": {
      "text/plain": [
       "'10'"
      ]
     },
     "execution_count": 32,
     "metadata": {},
     "output_type": "execute_result"
    }
   ],
   "source": [
    "str(a)"
   ]
  },
  {
   "cell_type": "code",
   "execution_count": 33,
   "id": "a4cdedf3-96fb-4f5c-a392-fe5e89a2efcd",
   "metadata": {},
   "outputs": [
    {
     "data": {
      "text/plain": [
       "10"
      ]
     },
     "execution_count": 33,
     "metadata": {},
     "output_type": "execute_result"
    }
   ],
   "source": [
    "a"
   ]
  },
  {
   "cell_type": "code",
   "execution_count": 34,
   "id": "3a3ff570-6bce-4f8c-b36a-2951e6f5520d",
   "metadata": {},
   "outputs": [
    {
     "data": {
      "text/plain": [
       "'vatsalya10'"
      ]
     },
     "execution_count": 34,
     "metadata": {},
     "output_type": "execute_result"
    }
   ],
   "source": [
    "s1 + str(a)"
   ]
  },
  {
   "cell_type": "markdown",
   "id": "837ece95-6451-4b91-9f6a-71f64e59f4b4",
   "metadata": {},
   "source": [
    "Typecasting - converting one data type into another"
   ]
  },
  {
   "cell_type": "code",
   "execution_count": 35,
   "id": "c309fbd8-d08c-4d99-8e05-61030244712f",
   "metadata": {},
   "outputs": [
    {
     "name": "stdin",
     "output_type": "stream",
     "text": [
      " 45758\n"
     ]
    }
   ],
   "source": [
    "b = input()"
   ]
  },
  {
   "cell_type": "code",
   "execution_count": 36,
   "id": "066d78eb-7786-4613-b5d4-9fb43856e8ef",
   "metadata": {},
   "outputs": [
    {
     "data": {
      "text/plain": [
       "'45758'"
      ]
     },
     "execution_count": 36,
     "metadata": {},
     "output_type": "execute_result"
    }
   ],
   "source": [
    "b"
   ]
  },
  {
   "cell_type": "markdown",
   "id": "d0f59d58-a948-4614-953b-765cf4a01183",
   "metadata": {},
   "source": [
    "By default, input function accepts string data type"
   ]
  },
  {
   "cell_type": "code",
   "execution_count": 37,
   "id": "424539e4-83fa-45ac-958b-09eb67b55cc9",
   "metadata": {},
   "outputs": [],
   "source": [
    "s = \"vatsalya\""
   ]
  },
  {
   "cell_type": "code",
   "execution_count": 38,
   "id": "b1a5ba9f-72ab-4e9a-811f-210a5e5e9e33",
   "metadata": {},
   "outputs": [
    {
     "data": {
      "text/plain": [
       "'v'"
      ]
     },
     "execution_count": 38,
     "metadata": {},
     "output_type": "execute_result"
    }
   ],
   "source": [
    "s[0]"
   ]
  },
  {
   "cell_type": "code",
   "execution_count": 39,
   "id": "dc618f07-a9de-4cd7-b983-99fbc7ef2d01",
   "metadata": {},
   "outputs": [
    {
     "data": {
      "text/plain": [
       "'a'"
      ]
     },
     "execution_count": 39,
     "metadata": {},
     "output_type": "execute_result"
    }
   ],
   "source": [
    "s[-1]"
   ]
  },
  {
   "cell_type": "code",
   "execution_count": 40,
   "id": "40774925-94b7-4356-a762-e61fcf4c5db6",
   "metadata": {},
   "outputs": [
    {
     "ename": "IndexError",
     "evalue": "string index out of range",
     "output_type": "error",
     "traceback": [
      "\u001b[0;31m---------------------------------------------------------------------------\u001b[0m",
      "\u001b[0;31mIndexError\u001b[0m                                Traceback (most recent call last)",
      "Cell \u001b[0;32mIn[40], line 1\u001b[0m\n\u001b[0;32m----> 1\u001b[0m \u001b[43ms\u001b[49m\u001b[43m[\u001b[49m\u001b[38;5;241;43m100\u001b[39;49m\u001b[43m]\u001b[49m\n",
      "\u001b[0;31mIndexError\u001b[0m: string index out of range"
     ]
    }
   ],
   "source": [
    "s[100]"
   ]
  },
  {
   "cell_type": "code",
   "execution_count": 41,
   "id": "b3ec5ada-02e5-4c98-afe6-078375a15207",
   "metadata": {},
   "outputs": [
    {
     "data": {
      "text/plain": [
       "'vatsalya'"
      ]
     },
     "execution_count": 41,
     "metadata": {},
     "output_type": "execute_result"
    }
   ],
   "source": [
    "s"
   ]
  },
  {
   "cell_type": "code",
   "execution_count": 42,
   "id": "803415f1-c692-4cf4-aa8e-0ed5d2e57302",
   "metadata": {},
   "outputs": [
    {
     "data": {
      "text/plain": [
       "'va'"
      ]
     },
     "execution_count": 42,
     "metadata": {},
     "output_type": "execute_result"
    }
   ],
   "source": [
    "s[0]+s[1]"
   ]
  },
  {
   "cell_type": "code",
   "execution_count": 43,
   "id": "db19f97f-1886-460e-a152-c0f13278a701",
   "metadata": {},
   "outputs": [
    {
     "data": {
      "text/plain": [
       "'v'"
      ]
     },
     "execution_count": 43,
     "metadata": {},
     "output_type": "execute_result"
    }
   ],
   "source": [
    "s[0:1]"
   ]
  },
  {
   "cell_type": "code",
   "execution_count": 44,
   "id": "599ed696-3c82-4046-ab32-e3b38d75f833",
   "metadata": {},
   "outputs": [
    {
     "data": {
      "text/plain": [
       "'va'"
      ]
     },
     "execution_count": 44,
     "metadata": {},
     "output_type": "execute_result"
    }
   ],
   "source": [
    "s[0:2]"
   ]
  },
  {
   "cell_type": "code",
   "execution_count": 45,
   "id": "04cf0b78-ea18-4348-9cb3-80838dfb6af3",
   "metadata": {},
   "outputs": [
    {
     "data": {
      "text/plain": [
       "'tsal'"
      ]
     },
     "execution_count": 45,
     "metadata": {},
     "output_type": "execute_result"
    }
   ],
   "source": [
    "s[2:6]"
   ]
  },
  {
   "cell_type": "code",
   "execution_count": 46,
   "id": "1218efc2-2e8a-463c-9c97-e6485837ba9e",
   "metadata": {},
   "outputs": [
    {
     "data": {
      "text/plain": [
       "'salya'"
      ]
     },
     "execution_count": 46,
     "metadata": {},
     "output_type": "execute_result"
    }
   ],
   "source": [
    "s[3:]"
   ]
  },
  {
   "cell_type": "code",
   "execution_count": 47,
   "id": "a9caa89f-fa28-4298-b8f2-d729a5052abc",
   "metadata": {},
   "outputs": [
    {
     "data": {
      "text/plain": [
       "'salya'"
      ]
     },
     "execution_count": 47,
     "metadata": {},
     "output_type": "execute_result"
    }
   ],
   "source": [
    "s[3:100]"
   ]
  },
  {
   "cell_type": "code",
   "execution_count": 49,
   "id": "7d6e4614-dc59-4161-9bbe-cdcb2ea71b39",
   "metadata": {},
   "outputs": [
    {
     "data": {
      "text/plain": [
       "'vtay'"
      ]
     },
     "execution_count": 49,
     "metadata": {},
     "output_type": "execute_result"
    }
   ],
   "source": [
    "s[0:8:2]"
   ]
  },
  {
   "cell_type": "code",
   "execution_count": 51,
   "id": "05b09f64-987d-4b35-b288-9fc41dd24282",
   "metadata": {},
   "outputs": [
    {
     "data": {
      "text/plain": [
       "'ayla'"
      ]
     },
     "execution_count": 51,
     "metadata": {},
     "output_type": "execute_result"
    }
   ],
   "source": [
    "s[7:3:-1]"
   ]
  },
  {
   "cell_type": "code",
   "execution_count": 52,
   "id": "21b07f5e-aaea-43d9-bf3c-cc67d62a7889",
   "metadata": {},
   "outputs": [
    {
     "data": {
      "text/plain": [
       "'ayla'"
      ]
     },
     "execution_count": 52,
     "metadata": {},
     "output_type": "execute_result"
    }
   ],
   "source": [
    "s[-1:-5:-1]"
   ]
  },
  {
   "cell_type": "code",
   "execution_count": 60,
   "id": "d9d8b5b5-8006-4e33-bc2c-a55e1af13398",
   "metadata": {},
   "outputs": [
    {
     "data": {
      "text/plain": [
       "'aylastav'"
      ]
     },
     "execution_count": 60,
     "metadata": {},
     "output_type": "execute_result"
    }
   ],
   "source": [
    "s[7::-1]"
   ]
  },
  {
   "cell_type": "code",
   "execution_count": 61,
   "id": "0d317dea-917c-4546-9ac8-f271f99b9e46",
   "metadata": {},
   "outputs": [
    {
     "data": {
      "text/plain": [
       "'aylastav'"
      ]
     },
     "execution_count": 61,
     "metadata": {},
     "output_type": "execute_result"
    }
   ],
   "source": [
    "s[::-1]"
   ]
  },
  {
   "cell_type": "code",
   "execution_count": 62,
   "id": "2cb91c79-44ba-45b9-a0dd-8e2b430e5c01",
   "metadata": {},
   "outputs": [
    {
     "data": {
      "text/plain": [
       "'vatsalya'"
      ]
     },
     "execution_count": 62,
     "metadata": {},
     "output_type": "execute_result"
    }
   ],
   "source": [
    "s"
   ]
  },
  {
   "cell_type": "code",
   "execution_count": 64,
   "id": "68274135-376b-4bdc-ba7f-269ed9f1cca1",
   "metadata": {},
   "outputs": [
    {
     "ename": "TypeError",
     "evalue": "'str' object does not support item assignment",
     "output_type": "error",
     "traceback": [
      "\u001b[0;31m---------------------------------------------------------------------------\u001b[0m",
      "\u001b[0;31mTypeError\u001b[0m                                 Traceback (most recent call last)",
      "Cell \u001b[0;32mIn[64], line 1\u001b[0m\n\u001b[0;32m----> 1\u001b[0m \u001b[43ms\u001b[49m\u001b[43m[\u001b[49m\u001b[38;5;241;43m0\u001b[39;49m\u001b[43m]\u001b[49m \u001b[38;5;241m=\u001b[39m \u001b[38;5;124m'\u001b[39m\u001b[38;5;124mx\u001b[39m\u001b[38;5;124m'\u001b[39m\n",
      "\u001b[0;31mTypeError\u001b[0m: 'str' object does not support item assignment"
     ]
    }
   ],
   "source": [
    "s[0] = 'x'"
   ]
  },
  {
   "cell_type": "markdown",
   "id": "c7a59aa3-8932-44b2-922d-076d1615af41",
   "metadata": {},
   "source": [
    "String is immutable"
   ]
  },
  {
   "cell_type": "code",
   "execution_count": null,
   "id": "352b30a4-03ab-44fd-a82c-a27a62b0a9ae",
   "metadata": {},
   "outputs": [],
   "source": []
  }
 ],
 "metadata": {
  "kernelspec": {
   "display_name": "Python 3 (ipykernel)",
   "language": "python",
   "name": "python3"
  },
  "language_info": {
   "codemirror_mode": {
    "name": "ipython",
    "version": 3
   },
   "file_extension": ".py",
   "mimetype": "text/x-python",
   "name": "python",
   "nbconvert_exporter": "python",
   "pygments_lexer": "ipython3",
   "version": "3.10.8"
  }
 },
 "nbformat": 4,
 "nbformat_minor": 5
}
